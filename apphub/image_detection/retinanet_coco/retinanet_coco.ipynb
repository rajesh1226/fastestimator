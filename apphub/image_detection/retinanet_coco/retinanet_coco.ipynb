{
 "cells": [
  {
   "cell_type": "code",
   "execution_count": 36,
   "metadata": {},
   "outputs": [],
   "source": [
    "import json\n",
    "import os\n",
    "from ast import literal_eval\n",
    "from collections import defaultdict\n",
    "\n",
    "import cv2\n",
    "import matplotlib.pyplot as plt\n",
    "import numpy as np\n",
    "import pandas as pd\n",
    "import tensorflow as tf\n",
    "from tensorflow.python.keras import layers, models\n",
    "\n",
    "import fastestimator as fe\n",
    "from fastestimator.op import TensorOp\n",
    "from fastestimator.op.numpyop import Minmax\n",
    "from fastestimator.trace.io import ModelSaver\n",
    "from fastestimator.util.compute_overlap import compute_overlap"
   ]
  },
  {
   "cell_type": "code",
   "execution_count": 37,
   "metadata": {},
   "outputs": [],
   "source": [
    "WIDTH = 512\n",
    "HEIGHT = 512"
   ]
  },
  {
   "cell_type": "markdown",
   "metadata": {},
   "source": [
    "### Load SVHN data set\n",
    "\n",
    "#### Once this is done we will use COCO data set."
   ]
  },
  {
   "cell_type": "code",
   "execution_count": 3,
   "metadata": {},
   "outputs": [],
   "source": [
    "from fastestimator.dataset import svhn"
   ]
  },
  {
   "cell_type": "code",
   "execution_count": 38,
   "metadata": {},
   "outputs": [],
   "source": [
    "# train_csv, test_csv, path = svhn.load_data('/home/ubuntu/SVHN/')\n",
    "path = '/home/ubuntu/SVHN'\n",
    "train_csv = os.path.join(path,'train.csv')\n",
    "test_csv = os.path.join(path, 'test.csv')"
   ]
  },
  {
   "cell_type": "code",
   "execution_count": 39,
   "metadata": {},
   "outputs": [],
   "source": [
    "df = pd.read_csv(train_csv)"
   ]
  },
  {
   "cell_type": "code",
   "execution_count": 40,
   "metadata": {},
   "outputs": [
    {
     "data": {
      "text/html": [
       "<div>\n",
       "<style scoped>\n",
       "    .dataframe tbody tr th:only-of-type {\n",
       "        vertical-align: middle;\n",
       "    }\n",
       "\n",
       "    .dataframe tbody tr th {\n",
       "        vertical-align: top;\n",
       "    }\n",
       "\n",
       "    .dataframe thead th {\n",
       "        text-align: right;\n",
       "    }\n",
       "</style>\n",
       "<table border=\"1\" class=\"dataframe\">\n",
       "  <thead>\n",
       "    <tr style=\"text-align: right;\">\n",
       "      <th></th>\n",
       "      <th>image</th>\n",
       "      <th>label</th>\n",
       "      <th>x1</th>\n",
       "      <th>y1</th>\n",
       "      <th>x2</th>\n",
       "      <th>y2</th>\n",
       "    </tr>\n",
       "  </thead>\n",
       "  <tbody>\n",
       "    <tr>\n",
       "      <th>0</th>\n",
       "      <td>train/1.png</td>\n",
       "      <td>[1, 9]</td>\n",
       "      <td>[246, 323]</td>\n",
       "      <td>[77, 81]</td>\n",
       "      <td>[327, 419]</td>\n",
       "      <td>[296, 300]</td>\n",
       "    </tr>\n",
       "    <tr>\n",
       "      <th>1</th>\n",
       "      <td>train/2.png</td>\n",
       "      <td>[2, 3]</td>\n",
       "      <td>[77, 98]</td>\n",
       "      <td>[29, 25]</td>\n",
       "      <td>[100, 124]</td>\n",
       "      <td>[61, 57]</td>\n",
       "    </tr>\n",
       "    <tr>\n",
       "      <th>2</th>\n",
       "      <td>train/3.png</td>\n",
       "      <td>[2, 5]</td>\n",
       "      <td>[17, 25]</td>\n",
       "      <td>[5, 5]</td>\n",
       "      <td>[25, 34]</td>\n",
       "      <td>[20, 20]</td>\n",
       "    </tr>\n",
       "    <tr>\n",
       "      <th>3</th>\n",
       "      <td>train/4.png</td>\n",
       "      <td>[9, 3]</td>\n",
       "      <td>[57, 72]</td>\n",
       "      <td>[13, 13]</td>\n",
       "      <td>[72, 85]</td>\n",
       "      <td>[47, 47]</td>\n",
       "    </tr>\n",
       "    <tr>\n",
       "      <th>4</th>\n",
       "      <td>train/5.png</td>\n",
       "      <td>[3, 1]</td>\n",
       "      <td>[52, 74]</td>\n",
       "      <td>[7, 10]</td>\n",
       "      <td>[73, 89]</td>\n",
       "      <td>[53, 56]</td>\n",
       "    </tr>\n",
       "  </tbody>\n",
       "</table>\n",
       "</div>"
      ],
      "text/plain": [
       "         image   label          x1        y1          x2          y2\n",
       "0  train/1.png  [1, 9]  [246, 323]  [77, 81]  [327, 419]  [296, 300]\n",
       "1  train/2.png  [2, 3]    [77, 98]  [29, 25]  [100, 124]    [61, 57]\n",
       "2  train/3.png  [2, 5]    [17, 25]    [5, 5]    [25, 34]    [20, 20]\n",
       "3  train/4.png  [9, 3]    [57, 72]  [13, 13]    [72, 85]    [47, 47]\n",
       "4  train/5.png  [3, 1]    [52, 74]   [7, 10]    [73, 89]    [53, 56]"
      ]
     },
     "execution_count": 40,
     "metadata": {},
     "output_type": "execute_result"
    }
   ],
   "source": [
    "df.head()"
   ]
  },
  {
   "cell_type": "markdown",
   "metadata": {},
   "source": [
    "### Create a smaller data set\n",
    "\n",
    "#### TFRecords generation at high resolution (800x1280) is super slow. I am creating a smaller data set."
   ]
  },
  {
   "cell_type": "code",
   "execution_count": 41,
   "metadata": {},
   "outputs": [],
   "source": [
    "train = pd.read_csv(train_csv)\n",
    "test = pd.read_csv(test_csv)"
   ]
  },
  {
   "cell_type": "code",
   "execution_count": 58,
   "metadata": {},
   "outputs": [],
   "source": [
    "train_small = train[0:3000]\n",
    "train_small.to_csv(os.path.join(path,'train_small.csv'), index=False)\n",
    "test_small = test[0:50]\n",
    "test_small.to_csv(os.path.join(path,'test_small.csv'),index=False)\n",
    "                   "
   ]
  },
  {
   "cell_type": "markdown",
   "metadata": {},
   "source": [
    "### Plot image and bounding box\n",
    "#### Note: I found that 30.png, 18522.png are not correct."
   ]
  },
  {
   "cell_type": "code",
   "execution_count": 59,
   "metadata": {},
   "outputs": [],
   "source": [
    "index = 4000"
   ]
  },
  {
   "cell_type": "code",
   "execution_count": 60,
   "metadata": {},
   "outputs": [
    {
     "data": {
      "text/plain": [
       "image    train/4001.png\n",
       "label            [6, 1]\n",
       "x1             [23, 38]\n",
       "y1               [3, 4]\n",
       "x2             [37, 45]\n",
       "y2             [28, 29]\n",
       "Name: 4000, dtype: object"
      ]
     },
     "execution_count": 60,
     "metadata": {},
     "output_type": "execute_result"
    },
    {
     "data": {
      "image/png": "[encoded data removed]",
      "text/plain": [
       "<Figure size 432x288 with 1 Axes>"
      ]
     },
     "metadata": {
      "needs_background": "light"
     },
     "output_type": "display_data"
    }
   ],
   "source": [
    "im = cv2.imread(os.path.join(path, df['image'][index]))\n",
    "im = cv2.cvtColor(im, cv2.COLOR_BGR2RGB)\n",
    "fig, ax = plt.subplots()\n",
    "for box_index in range(len(literal_eval(df['label'][index]))):\n",
    "    x1 = literal_eval(df['x1'][index])[box_index]\n",
    "    y1 = literal_eval(df['y1'][index])[box_index]\n",
    "    x2 = literal_eval(df['x2'][index])[box_index]\n",
    "    y2 = literal_eval(df['y2'][index])[box_index]\n",
    "    cv2.rectangle(im, (x1, y1), (x2, y2), (255, 0, 0), 1)\n",
    "    \n",
    "ax.imshow(im)\n",
    "df.loc[index]"
   ]
  },
  {
   "cell_type": "markdown",
   "metadata": {},
   "source": [
    "### Create tfrecord writer"
   ]
  },
  {
   "cell_type": "code",
   "execution_count": 61,
   "metadata": {},
   "outputs": [],
   "source": [
    "from fastestimator.op import NumpyOp\n",
    "from fastestimator.op.numpyop import ImageReader, Minmax, Resize\n",
    "from fastestimator.util import RecordWriter"
   ]
  },
  {
   "cell_type": "code",
   "execution_count": 62,
   "metadata": {},
   "outputs": [],
   "source": [
    "class String2List(NumpyOp):\n",
    "    # this thing converts '[1, 2, 3]' into np.array([1, 2, 3])\n",
    "    def forward(self, data, state):\n",
    "        data = map(literal_eval, data)\n",
    "        return data"
   ]
  },
  {
   "cell_type": "code",
   "execution_count": 63,
   "metadata": {},
   "outputs": [],
   "source": [
    "class ResizeCocoStyle(Resize):\n",
    "    def __init__(self, target_size, keep_ratio=False, inputs=None, outputs=None, mode=None):\n",
    "        super().__init__(target_size, keep_ratio=keep_ratio, inputs=inputs, outputs=outputs, mode=mode)\n",
    "\n",
    "    def forward(self, data, state):\n",
    "        img, x1, y1, x2, y2 = data\n",
    "        if self.keep_ratio:\n",
    "            original_ratio = img.shape[1] / img.shape[0]\n",
    "            target_ratio = self.target_size[1] / self.target_size[0]\n",
    "            if original_ratio >= target_ratio:\n",
    "                pad = (img.shape[1] / target_ratio - img.shape[0]) / 2\n",
    "                pad_boarder = (np.ceil(pad).astype(np.int), np.floor(pad).astype(np.int), 0, 0)\n",
    "                y1 += np.ceil(pad).astype(np.int)\n",
    "                y2 += np.ceil(pad).astype(np.int)\n",
    "            else:\n",
    "                pad = (img.shape[0] * target_ratio - img.shape[1]) / 2\n",
    "                pad_boarder = (0, 0, np.ceil(pad).astype(np.int), np.floor(pad).astype(np.int))\n",
    "                x1 += np.ceil(pad).astype(np.int)\n",
    "                x2 += np.ceil(pad).astype(np.int)\n",
    "\n",
    "            img = cv2.copyMakeBorder(img, *pad_boarder, cv2.BORDER_CONSTANT)\n",
    "            \n",
    "        img_resize = cv2.resize(img, (self.target_size[1], self.target_size[0]), self.resize_method)\n",
    "        x1 = (np.array(x1) * self.target_size[1] / img.shape[1]).astype(np.int64)\n",
    "        x2 = (np.array(x2) * self.target_size[1] / img.shape[1]).astype(np.int64)\n",
    "        y1 = (np.array(y1) * self.target_size[0] / img.shape[0]).astype(np.int64)\n",
    "        y2 = (np.array(y2) * self.target_size[0] / img.shape[0]).astype(np.int64)\n",
    "        return img_resize, x1, y1, x2, y2"
   ]
  },
  {
   "cell_type": "code",
   "execution_count": 64,
   "metadata": {},
   "outputs": [],
   "source": [
    "class GenerateTarget(NumpyOp):\n",
    "    def __init__(self, inputs=None, outputs=None, mode=None, input_shape=(800, 800, 3)):\n",
    "        super().__init__(inputs=inputs, outputs=outputs, mode=mode)\n",
    "        self.pyramid_levels = [3, 4, 5, 6, 7]\n",
    "        self.sizes = [32, 64, 128, 256, 512]\n",
    "        self.strides = [8, 16, 32, 64, 128]\n",
    "        self.ratios = np.array([0.5, 1, 2], dtype=np.float)\n",
    "        self.scales = np.array([2**0, 2**(1.0 / 3.0), 2**(2.0 / 3.0)], dtype=np.float)\n",
    "\n",
    "        self.anchors_list = np.zeros((0, 4))\n",
    "        image_shapes = [(np.array(input_shape[:2]) + 2**pyra_level - 1) // (2**pyra_level)\n",
    "                        for pyra_level in self.pyramid_levels]\n",
    "        for idx, pyra_level in enumerate(self.pyramid_levels):\n",
    "            base_size = self.sizes[idx]\n",
    "            ratios = self.ratios\n",
    "            scales = self.scales\n",
    "            image_shape = image_shapes[idx]\n",
    "            strides = self.strides[idx]\n",
    "            anchors = self.generate_anchors_core(base_size, ratios, scales)\n",
    "            shifted_anchors = self.shift(image_shape, strides, anchors)\n",
    "            self.anchors_list = np.append(self.anchors_list, shifted_anchors, axis=0)\n",
    "\n",
    "    def forward(self, data, state):\n",
    "        label, x1, y1, x2, y2, image = data\n",
    "        target_cls, target_loc = self.get_target(self.anchors_list, label, x1, y1, x2, y2, num_classes=11) # 10 classes + bg\n",
    "        return target_cls, target_loc, self.anchors_list\n",
    "\n",
    "    def get_target(self, anchorbox, label, x1, y1, x2, y2, num_classes=10):\n",
    "        bg_index = num_classes - 1\n",
    "        query_box = np.zeros((0, 4))\n",
    "        query_label = np.zeros((0))\n",
    "        for _x1, _y1, _x2, _y2, _label in zip(x1, y1, x2, y2, label):\n",
    "            query_box = np.append(query_box, np.array([[_x1, _y1, _x2, _y2]]), axis=0)\n",
    "            query_label = np.append(query_label, _label)\n",
    "\n",
    "        overlap = compute_overlap(anchorbox.astype(np.float64), query_box.astype(np.float64))\n",
    "        argmax_overlaps_inds = np.argmax(overlap, axis=1)\n",
    "        max_overlaps = overlap[np.arange(overlap.shape[0]), argmax_overlaps_inds]\n",
    "        positive_index = (max_overlaps > 0.5)\n",
    "        ignore_index = (max_overlaps > 0.4) & ~positive_index\n",
    "        negative_index = (max_overlaps <= 0.4)\n",
    "\n",
    "        target_loc = get_loc_offset(query_box[argmax_overlaps_inds, :], anchorbox)\n",
    "        target_cls = query_label[argmax_overlaps_inds]\n",
    "        target_cls[negative_index] = bg_index\n",
    "        target_cls[ignore_index] = -2  # ignore this example\n",
    "\n",
    "        return target_cls, target_loc\n",
    "\n",
    "    def generate_anchors_core(self, base_size, ratios, scales):\n",
    "        num_anchors = len(ratios) * len(scales)\n",
    "        # initialize output anchors\n",
    "        anchors = np.zeros((num_anchors, 4))\n",
    "        # scale base_size\n",
    "        anchors[:, 2:] = base_size * np.tile(scales, (2, len(ratios))).T\n",
    "\n",
    "        # compute areas of anchors\n",
    "        areas = anchors[:, 2] * anchors[:, 3]\n",
    "\n",
    "        # correct for ratios\n",
    "        anchors[:, 2] = np.sqrt(areas / np.repeat(ratios, len(scales)))\n",
    "        anchors[:, 3] = anchors[:, 2] * np.repeat(ratios, len(scales))\n",
    "\n",
    "        # transform from (x_ctr, y_ctr, w, h) -> (x1, y1, x2, y2)\n",
    "        anchors[:, 0::2] -= np.tile(anchors[:, 2] * 0.5, (2, 1)).T\n",
    "        anchors[:, 1::2] -= np.tile(anchors[:, 3] * 0.5, (2, 1)).T\n",
    "\n",
    "        return anchors\n",
    "\n",
    "    def shift(self, image_shape, stride, anchors):\n",
    "        shift_x = (np.arange(0, image_shape[1]) + 0.5) * stride\n",
    "        shift_y = (np.arange(0, image_shape[0]) + 0.5) * stride\n",
    "        shift_x, shift_y = np.meshgrid(shift_x, shift_y)\n",
    "\n",
    "        shifts = np.vstack((shift_x.ravel(), shift_y.ravel(), shift_x.ravel(), shift_y.ravel())).transpose()\n",
    "\n",
    "        A = anchors.shape[0]\n",
    "        K = shifts.shape[0]\n",
    "        all_anchors = (anchors.reshape((1, A, 4)) + shifts.reshape((1, K, 4)).transpose((1, 0, 2)))\n",
    "        all_anchors = all_anchors.reshape((K * A, 4))\n",
    "\n",
    "        return all_anchors"
   ]
  },
  {
   "cell_type": "markdown",
   "metadata": {},
   "source": [
    "### Util functions"
   ]
  },
  {
   "cell_type": "code",
   "execution_count": 65,
   "metadata": {},
   "outputs": [],
   "source": [
    "def get_loc_offset(box_gt, box_anchor):\n",
    "    mean = 0\n",
    "    std = 0.2\n",
    "    anchor_width_height = np.tile(box_anchor[:, 2:] - box_anchor[:, :2], [1, 2])\n",
    "    delta = (box_gt - box_anchor) / anchor_width_height\n",
    "    return delta / std"
   ]
  },
  {
   "cell_type": "markdown",
   "metadata": {},
   "source": [
    "### Record writer"
   ]
  },
  {
   "cell_type": "code",
   "execution_count": 66,
   "metadata": {},
   "outputs": [],
   "source": [
    "writer = RecordWriter(\n",
    "    train_data=os.path.join(path, 'train_small.csv'),\n",
    "    validation_data=os.path.join(path, 'test_small.csv'),\n",
    "    save_dir=os.path.join(path, 'tfrecords'),\n",
    "    ops=[\n",
    "        ImageReader(inputs='image', outputs='image', parent_path=path),\n",
    "        String2List(inputs=[\"label\", \"x1\", \"y1\", \"x2\", \"y2\"], outputs=[\"label\", \"x1\", \"y1\", \"x2\", \"y2\"]),\n",
    "        ResizeCocoStyle((HEIGHT, WIDTH),\n",
    "                        keep_ratio=True,\n",
    "                        inputs=[\"image\", \"x1\", \"y1\", \"x2\", \"y2\"],\n",
    "                        outputs=[\"image\", \"x1\", \"y1\", \"x2\", \"y2\"]),\n",
    "        Minmax(inputs=\"image\", outputs=\"image\"),\n",
    "        GenerateTarget(inputs=[\"label\", \"x1\", \"y1\", \"x2\", \"y2\", \"image\"],\n",
    "                       outputs=[\"target_cls\", \"target_loc\", \"base_loc\"],\n",
    "                       input_shape=(HEIGHT, WIDTH, 3))\n",
    "    ])"
   ]
  },
  {
   "cell_type": "markdown",
   "metadata": {},
   "source": [
    "### Pipeline"
   ]
  },
  {
   "cell_type": "code",
   "execution_count": 67,
   "metadata": {},
   "outputs": [],
   "source": [
    "pipeline = fe.Pipeline(data=writer, batch_size=2, padded_batch=True, read_feature=[\"image\", \"target_cls\", \"target_loc\",\"base_loc\"])"
   ]
  },
  {
   "cell_type": "code",
   "execution_count": 68,
   "metadata": {},
   "outputs": [],
   "source": [
    "!rm -rf /home/ubuntu/SVHN/tfrecords/"
   ]
  },
  {
   "cell_type": "code",
   "execution_count": 69,
   "metadata": {},
   "outputs": [
    {
     "name": "stdout",
     "output_type": "stream",
     "text": [
      "FastEstimator: Saving tfrecord to /home/ubuntu/SVHN/tfrecords\n",
      "FastEstimator: Converting Train TFRecords 0.0%, Speed: 0.00 record/sec\n",
      "FastEstimator: Converting Train TFRecords 4.8%, Speed: 156.99 record/sec\n",
      "FastEstimator: Converting Train TFRecords 9.6%, Speed: 157.17 record/sec\n",
      "FastEstimator: Converting Train TFRecords 14.4%, Speed: 158.02 record/sec\n",
      "FastEstimator: Converting Train TFRecords 19.2%, Speed: 155.55 record/sec\n",
      "FastEstimator: Converting Train TFRecords 24.0%, Speed: 159.77 record/sec\n",
      "FastEstimator: Converting Train TFRecords 28.8%, Speed: 151.26 record/sec\n",
      "FastEstimator: Converting Train TFRecords 33.6%, Speed: 148.67 record/sec\n",
      "FastEstimator: Converting Train TFRecords 38.4%, Speed: 172.23 record/sec\n",
      "FastEstimator: Converting Train TFRecords 43.2%, Speed: 71.41 record/sec\n",
      "FastEstimator: Converting Train TFRecords 48.0%, Speed: 15.37 record/sec\n",
      "FastEstimator: Converting Train TFRecords 52.8%, Speed: 19.15 record/sec\n",
      "FastEstimator: Converting Train TFRecords 57.6%, Speed: 20.60 record/sec\n",
      "FastEstimator: Converting Train TFRecords 62.4%, Speed: 21.86 record/sec\n",
      "FastEstimator: Converting Train TFRecords 67.2%, Speed: 0.00 record/sec\n",
      "FastEstimator: Converting Train TFRecords 72.0%, Speed: 21.97 record/sec\n",
      "FastEstimator: Converting Train TFRecords 76.8%, Speed: 21.94 record/sec\n",
      "FastEstimator: Converting Train TFRecords 81.6%, Speed: 21.72 record/sec\n",
      "FastEstimator: Converting Train TFRecords 86.4%, Speed: 21.55 record/sec\n",
      "FastEstimator: Converting Train TFRecords 91.2%, Speed: 21.86 record/sec\n",
      "FastEstimator: Converting Train TFRecords 96.0%, Speed: 21.68 record/sec\n",
      "FastEstimator: Converting Eval TFRecords 0.0%, Speed: 0.00 record/sec\n",
      "FastEstimator: Converting Eval TFRecords 14.3%, Speed: 22.34 record/sec\n",
      "FastEstimator: Converting Eval TFRecords 28.6%, Speed: 25.07 record/sec\n",
      "FastEstimator: Converting Eval TFRecords 42.9%, Speed: 26.13 record/sec\n",
      "FastEstimator: Converting Eval TFRecords 57.1%, Speed: 26.70 record/sec\n",
      "FastEstimator: Converting Eval TFRecords 71.4%, Speed: 27.04 record/sec\n",
      "FastEstimator: Converting Eval TFRecords 85.7%, Speed: 26.23 record/sec\n",
      "FastEstimator: Reading non-empty directory: /home/ubuntu/SVHN/tfrecords\n",
      "FastEstimator: Found 3000 examples for train in /home/ubuntu/SVHN/tfrecords/train_summary0.json\n",
      "FastEstimator: Found 50 examples for eval in /home/ubuntu/SVHN/tfrecords/eval_summary0.json\n"
     ]
    }
   ],
   "source": [
    "batch_data = pipeline.show_results(mode='eval')"
   ]
  },
  {
   "cell_type": "code",
   "execution_count": 70,
   "metadata": {},
   "outputs": [
    {
     "data": {
      "text/plain": [
       "TensorShape([512, 512, 3])"
      ]
     },
     "execution_count": 70,
     "metadata": {},
     "output_type": "execute_result"
    }
   ],
   "source": [
    "batch_data[0]['image'][1].shape"
   ]
  },
  {
   "cell_type": "code",
   "execution_count": 71,
   "metadata": {},
   "outputs": [
    {
     "data": {
      "text/plain": [
       "dict_keys(['image', 'target_cls', 'target_loc', 'base_loc'])"
      ]
     },
     "execution_count": 71,
     "metadata": {},
     "output_type": "execute_result"
    }
   ],
   "source": [
    "batch_data[0].keys()"
   ]
  },
  {
   "cell_type": "code",
   "execution_count": 72,
   "metadata": {},
   "outputs": [
    {
     "data": {
      "text/plain": [
       "<tf.Tensor: id=8890, shape=(49104, 4), dtype=float32, numpy=\n",
       "array([[ -18.627417 ,   -7.3137083,   26.627417 ,   15.313708 ],\n",
       "       [ -24.508759 ,  -10.254379 ,   32.50876  ,   18.25438  ],\n",
       "       [ -31.918785 ,  -13.959393 ,   39.918785 ,   21.959393 ],\n",
       "       ...,\n",
       "       [ 266.98065  ,   85.96133  ,  629.01935  ,  810.0387   ],\n",
       "       [ 219.92993  ,   -8.140143 ,  676.07007  ,  904.14014  ],\n",
       "       [ 160.64972  , -126.70057  ,  735.3503   , 1022.70056  ]],\n",
       "      dtype=float32)>"
      ]
     },
     "execution_count": 72,
     "metadata": {},
     "output_type": "execute_result"
    }
   ],
   "source": [
    "batch_data[0]['base_loc'][1]"
   ]
  },
  {
   "cell_type": "code",
   "execution_count": 73,
   "metadata": {},
   "outputs": [
    {
     "data": {
      "text/plain": [
       "<matplotlib.image.AxesImage at 0x7f0fe00af6d8>"
      ]
     },
     "execution_count": 73,
     "metadata": {},
     "output_type": "execute_result"
    },
    {
     "data": {
      "image/png": "[encoded data removed]",
      "text/plain": [
       "<Figure size 432x288 with 1 Axes>"
      ]
     },
     "metadata": {
      "needs_background": "light"
     },
     "output_type": "display_data"
    }
   ],
   "source": [
    "batch_index = 0\n",
    "im = batch_data[0]['image'].numpy()[batch_index]\n",
    "fig, ax = plt.subplots()\n",
    "# for box_index in range(len(batch_data[0]['x1'].numpy()[batch_index])):\n",
    "#     x1 = batch_data[0]['x1'].numpy()[batch_index][box_index]\n",
    "#     y1 = batch_data[0]['y1'].numpy()[batch_index][box_index]\n",
    "#     x2 = batch_data[0]['x2'].numpy()[batch_index][box_index]\n",
    "#     y2 = batch_data[0]['y2'].numpy()[batch_index][box_index]\n",
    "#     if x1 > 0:\n",
    "#         im = cv2.rectangle(im, (x1, y1), (x2, y2), (255, 0, 0), 2)\n",
    "\n",
    "ax.imshow(im)"
   ]
  },
  {
   "cell_type": "markdown",
   "metadata": {},
   "source": [
    "### Keras definitions\n",
    "\n",
    "#### Classification head"
   ]
  },
  {
   "cell_type": "code",
   "execution_count": 74,
   "metadata": {},
   "outputs": [],
   "source": [
    "def classification_sub_net(num_classes, num_anchor=9):\n",
    "    model = models.Sequential()\n",
    "    model.add(\n",
    "        layers.Conv2D(256,\n",
    "                      kernel_size=3,\n",
    "                      strides=1,\n",
    "                      padding='same',\n",
    "                      activation='relu',\n",
    "                      kernel_initializer=tf.random_normal_initializer(stddev=0.01),\n",
    "                      bias_initializer='zeros'))\n",
    "    model.add(\n",
    "        layers.Conv2D(256,\n",
    "                      kernel_size=3,\n",
    "                      strides=1,\n",
    "                      padding='same',\n",
    "                      activation='relu',\n",
    "                      kernel_initializer=tf.random_normal_initializer(stddev=0.01),\n",
    "                      bias_initializer='zeros'))\n",
    "    model.add(\n",
    "        layers.Conv2D(256,\n",
    "                      kernel_size=3,\n",
    "                      strides=1,\n",
    "                      padding='same',\n",
    "                      activation='relu',\n",
    "                      kernel_initializer=tf.random_normal_initializer(stddev=0.01),\n",
    "                      bias_initializer='zeros'))\n",
    "    model.add(\n",
    "        layers.Conv2D(256,\n",
    "                      kernel_size=3,\n",
    "                      strides=1,\n",
    "                      padding='same',\n",
    "                      activation='relu',\n",
    "                      kernel_initializer=tf.random_normal_initializer(stddev=0.01),\n",
    "                      bias_initializer='zeros'))\n",
    "    model.add(\n",
    "        layers.Conv2D(num_classes * num_anchor,\n",
    "                      kernel_size=3,\n",
    "                      strides=1,\n",
    "                      padding='same',\n",
    "                      activation='sigmoid',\n",
    "                      kernel_initializer=tf.random_normal_initializer(stddev=0.01),\n",
    "                      bias_initializer=tf.initializers.constant(np.log(1 / 99))))\n",
    "    model.add(layers.Reshape((-1, num_classes)))  # the output dimension is [batch, #anchor, #classes]\n",
    "    return model"
   ]
  },
  {
   "cell_type": "markdown",
   "metadata": {},
   "source": [
    "### Regression head"
   ]
  },
  {
   "cell_type": "code",
   "execution_count": 75,
   "metadata": {},
   "outputs": [],
   "source": [
    "def regression_sub_net(num_anchor=9):\n",
    "    model = models.Sequential()\n",
    "    model.add(\n",
    "        layers.Conv2D(256,\n",
    "                      kernel_size=3,\n",
    "                      strides=1,\n",
    "                      padding='same',\n",
    "                      activation='relu',\n",
    "                      kernel_initializer=tf.random_normal_initializer(stddev=0.01),\n",
    "                      bias_initializer='zeros'))\n",
    "    model.add(\n",
    "        layers.Conv2D(256,\n",
    "                      kernel_size=3,\n",
    "                      strides=1,\n",
    "                      padding='same',\n",
    "                      activation='relu',\n",
    "                      kernel_initializer=tf.random_normal_initializer(stddev=0.01),\n",
    "                      bias_initializer='zeros'))\n",
    "    model.add(\n",
    "        layers.Conv2D(256,\n",
    "                      kernel_size=3,\n",
    "                      strides=1,\n",
    "                      padding='same',\n",
    "                      activation='relu',\n",
    "                      kernel_initializer=tf.random_normal_initializer(stddev=0.01),\n",
    "                      bias_initializer='zeros'))\n",
    "    model.add(\n",
    "        layers.Conv2D(256,\n",
    "                      kernel_size=3,\n",
    "                      strides=1,\n",
    "                      padding='same',\n",
    "                      activation='relu',\n",
    "                      kernel_initializer=tf.random_normal_initializer(stddev=0.01),\n",
    "                      bias_initializer='zeros'))\n",
    "    model.add(\n",
    "        layers.Conv2D(4 * num_anchor,\n",
    "                      kernel_size=3,\n",
    "                      strides=1,\n",
    "                      padding='same',\n",
    "                      kernel_initializer=tf.random_normal_initializer(stddev=0.01),\n",
    "                      bias_initializer='zeros'))\n",
    "    model.add(layers.Reshape((-1, 4)))  # the output dimension is [batch, #anchor, 4]\n",
    "    return model\n"
   ]
  },
  {
   "cell_type": "markdown",
   "metadata": {},
   "source": [
    "## Define RetinaNet\n"
   ]
  },
  {
   "cell_type": "code",
   "execution_count": 76,
   "metadata": {},
   "outputs": [],
   "source": [
    "def RetinaNet(input_shape, num_classes, num_anchor=9):\n",
    "    inputs = tf.keras.Input(shape=input_shape)\n",
    "    # FPN\n",
    "    #     weights = '/home/ubuntu/ResNet-50-model.keras.h5'\n",
    "    resnet50 = tf.keras.applications.ResNet50(weights=\"imagenet\", include_top=False, input_tensor=inputs, pooling=None)\n",
    "    #     resnet50.load_weights(weights, by_name=True)\n",
    "    assert resnet50.layers[80].name == \"conv3_block4_out\"\n",
    "    C3 = resnet50.layers[80].output\n",
    "    assert resnet50.layers[142].name == \"conv4_block6_out\"\n",
    "    C4 = resnet50.layers[142].output\n",
    "    assert resnet50.layers[-1].name == \"conv5_block3_out\"\n",
    "    C5 = resnet50.layers[-1].output\n",
    "    \n",
    "    P5 = layers.Conv2D(256, kernel_size=1, strides=1, padding='same')(C5)\n",
    "    P5_upsampling = layers.UpSampling2D()(P5)\n",
    "    P4 = layers.Conv2D(256, kernel_size=1, strides=1, padding='same')(C4)\n",
    "    P4 = layers.Add()([P5_upsampling, P4])\n",
    "    P4_upsampling = layers.UpSampling2D()(P4)\n",
    "    P3 = layers.Conv2D(256, kernel_size=1, strides=1, padding='same')(C3)\n",
    "    \n",
    "    P3 = layers.Add()([P4_upsampling, P3])\n",
    "    \n",
    "    P6 = layers.Conv2D(256, kernel_size=3, strides=2, padding='same', name=\"P6\")(C5)\n",
    "    P7 = layers.Activation('relu')(P6)\n",
    "    P7 = layers.Conv2D(256, kernel_size=3, strides=2, padding='same', name=\"P7\")(P7)\n",
    "    P5 = layers.Conv2D(256, kernel_size=3, strides=1, padding='same', name=\"P5\")(P5)\n",
    "    P4 = layers.Conv2D(256, kernel_size=3, strides=1, padding='same', name=\"P4\")(P4)\n",
    "    P3 = layers.Conv2D(256, kernel_size=3, strides=1, padding='same', name=\"P3\")(P3)\n",
    "    # classification subnet\n",
    "    cls_subnet = classification_sub_net(num_classes=num_classes, num_anchor=num_anchor)\n",
    "    P3_cls = cls_subnet(P3)\n",
    "    P4_cls = cls_subnet(P4)\n",
    "    P5_cls = cls_subnet(P5)\n",
    "    P6_cls = cls_subnet(P6)\n",
    "    P7_cls = cls_subnet(P7)\n",
    "    cls_output = layers.Concatenate(axis=-2)([P3_cls, P4_cls, P5_cls, P6_cls, P7_cls])\n",
    "    # localization subnet\n",
    "    loc_subnet = regression_sub_net(num_anchor=num_anchor)\n",
    "    P3_loc = loc_subnet(P3)\n",
    "    P4_loc = loc_subnet(P4)\n",
    "    P5_loc = loc_subnet(P5)\n",
    "    P6_loc = loc_subnet(P6)\n",
    "    P7_loc = loc_subnet(P7)\n",
    "    loc_output = layers.Concatenate(axis=-2)([P3_loc, P4_loc, P5_loc, P6_loc, P7_loc])\n",
    "    return tf.keras.Model(inputs=inputs, outputs=[cls_output, loc_output])"
   ]
  },
  {
   "cell_type": "markdown",
   "metadata": {},
   "source": [
    "## Define loss"
   ]
  },
  {
   "cell_type": "code",
   "execution_count": 77,
   "metadata": {},
   "outputs": [],
   "source": [
    "from fastestimator.op.tensorop import Loss"
   ]
  },
  {
   "cell_type": "code",
   "execution_count": 78,
   "metadata": {},
   "outputs": [],
   "source": [
    "class RetinaLoss(Loss):\n",
    "    def focal_loss(self, cls_gt_example, cls_pred_example, num_classes, alpha=0.25, gamma=2.0):\n",
    "        bg_index = num_classes - 1\n",
    "        # cls_gt has shape [A], cls_pred is in [A, K]\n",
    "        # gather the objects and background, discard the rest\n",
    "        obj_idx = tf.where(tf.logical_and(tf.greater_equal(cls_gt_example, 0), tf.less(cls_gt_example, bg_index)))\n",
    "        obj_bg_idx = tf.where(tf.greater_equal(cls_gt_example, 0))\n",
    "        obj_bg_count = tf.cast(tf.shape(obj_bg_idx)[0], tf.float32)\n",
    "        obj_count = tf.cast(tf.maximum(tf.shape(obj_idx)[0], 1), tf.float32)\n",
    "        cls_gt_example = tf.one_hot(cls_gt_example, num_classes)\n",
    "        cls_gt_example = tf.gather_nd(cls_gt_example, obj_bg_idx)\n",
    "        cls_pred_example = tf.gather_nd(cls_pred_example, obj_bg_idx)\n",
    "        cls_gt_example = tf.reshape(cls_gt_example, (-1, 1))\n",
    "        cls_pred_example = tf.reshape(cls_pred_example, (-1, 1))\n",
    "        # compute the focal weight on each selected anchor box\n",
    "        alpha_factor = tf.ones_like(cls_gt_example) * alpha\n",
    "        alpha_factor = tf.where(tf.equal(cls_gt_example, 1), alpha_factor, 1 - alpha_factor)\n",
    "        focal_weight = tf.where(tf.equal(cls_gt_example, 1), 1 - cls_pred_example, cls_pred_example)\n",
    "        focal_weight = alpha_factor * focal_weight**gamma / obj_count\n",
    "        cls_loss = tf.losses.BinaryCrossentropy(reduction='sum')(cls_gt_example,\n",
    "                                                                 cls_pred_example,\n",
    "                                                                 sample_weight=focal_weight)\n",
    "        return cls_loss, obj_idx\n",
    "\n",
    "    def smooth_l1(self, loc_gt_example, loc_pred_example, obj_idx):\n",
    "        # loc_gt anf loc_pred has shape [A, 4]\n",
    "        sigma = 3\n",
    "        sigma_squared = sigma**3\n",
    "        obj_count = tf.cast(tf.maximum(tf.shape(obj_idx)[0], 1), tf.float32)\n",
    "        loc_gt = tf.gather_nd(loc_gt_example, obj_idx)\n",
    "        loc_pred = tf.gather_nd(loc_pred_example, obj_idx)\n",
    "        loc_gt = tf.reshape(loc_gt, (-1, 1))\n",
    "        loc_pred = tf.reshape(loc_pred, (-1, 1))\n",
    "        loc_diff = tf.abs(loc_gt - loc_pred)\n",
    "        smooth_l1_loss = tf.where(tf.less(loc_diff, 1 / sigma_squared),\n",
    "                                  0.5 * loc_diff**2 * sigma_squared,\n",
    "                                  loc_diff - 0.5 / sigma_squared)\n",
    "        smooth_l1_loss = tf.reduce_sum(smooth_l1_loss) / obj_count\n",
    "        return smooth_l1_loss\n",
    "\n",
    "    def forward(self, data, state):\n",
    "        cls_gt, loc_gt, cls_pred, loc_pred = data\n",
    "        cls_gt = tf.cast(cls_gt, tf.int32)\n",
    "        batch_size = state[\"local_batch_size\"]\n",
    "        total_loss = []\n",
    "        for idx in range(batch_size):\n",
    "            cls_gt_example = cls_gt[idx]\n",
    "            loc_gt_example = loc_gt[idx]\n",
    "            cls_pred_example = cls_pred[idx]\n",
    "            loc_pred_example = loc_pred[idx]\n",
    "            focal_loss, obj_idx = self.focal_loss(cls_gt_example, cls_pred_example, num_classes=10+1) # 10 classes + bg\n",
    "            smooth_l1_loss = self.smooth_l1(loc_gt_example, loc_pred_example, obj_idx)\n",
    "            total_loss.append(focal_loss + smooth_l1_loss)\n",
    "        total_loss = tf.convert_to_tensor(total_loss)\n",
    "        return total_loss"
   ]
  },
  {
   "cell_type": "markdown",
   "metadata": {},
   "source": [
    "## Not using PredictBox yet"
   ]
  },
  {
   "cell_type": "code",
   "execution_count": 79,
   "metadata": {},
   "outputs": [],
   "source": [
    "class PredictBox(TensorOp):\n",
    "    def __init__(self, num_classes, inputs=None, outputs=None, mode=None):\n",
    "        super().__init__(inputs=inputs, outputs=outputs, mode=mode)\n",
    "        self.num_classes = num_classes\n",
    "        self.bg_index = num_classes - 1\n",
    "\n",
    "    def forward(self, data, state):\n",
    "        cls_pred, loc_pred, loc_base = data\n",
    "        input_width = WIDTH\n",
    "        input_height = HEIGHT\n",
    "        top_n = 10\n",
    "        score_threshold = 0.2\n",
    "        std = 0.2\n",
    "        mean = 0\n",
    "        # convert the residual prediction to absolute prediction in (x1, y1, x2, y2)\n",
    "        anchor_w_h = tf.tile(loc_base[:, :, 2:], [1, 1, 2]) - tf.tile(loc_base[:, :, :2], [1, 1, 2])\n",
    "        anchorbox = loc_base\n",
    "        loc_pred_abs = tf.map_fn(lambda x: (x[0] * std + mean) * x[1] + x[2],\n",
    "                                 elems=(loc_pred, anchor_w_h, anchorbox),\n",
    "                                 dtype=tf.float32,\n",
    "                                 back_prop=False)\n",
    "        x1 = tf.clip_by_value(loc_pred_abs[:, :, 0], 0, input_width)\n",
    "        y1 = tf.clip_by_value(loc_pred_abs[:, :, 1], 0, input_height)\n",
    "        x2 = tf.clip_by_value(loc_pred_abs[:, :, 2], 0, input_width)\n",
    "        y2 = tf.clip_by_value(loc_pred_abs[:, :, 3], 0, input_height)\n",
    "        loc_pred_abs = tf.stack([x1, y1, x2, y2], axis=2)\n",
    "\n",
    "        num_batch, num_anchor, _ = loc_pred_abs.shape\n",
    "        cls_best_score = tf.reduce_max(cls_pred, axis=-1)\n",
    "        cls_best_class = tf.argmax(cls_pred, axis=-1)\n",
    "\n",
    "        cls_best_score = tf.where(tf.not_equal(cls_best_class, self.bg_index), cls_best_score, 0)\n",
    "\n",
    "        # select top n anchor boxes to proceed\n",
    "        # Padded Nonmax suppression with threshold\n",
    "        selected_indices_padded = tf.map_fn(\n",
    "            lambda x: tf.image.non_max_suppression_padded(\n",
    "                x[0], x[1], top_n, pad_to_max_output_size=True, score_threshold=score_threshold).selected_indices,\n",
    "            (loc_pred_abs, cls_best_score),\n",
    "            dtype=tf.int32,\n",
    "            back_prop=False)\n",
    "        valid_outputs = tf.map_fn(\n",
    "            lambda x: tf.image.non_max_suppression_padded(\n",
    "                x[0], x[1], top_n, pad_to_max_output_size=True, score_threshold=score_threshold).valid_outputs,\n",
    "            (loc_pred_abs, cls_best_score),\n",
    "            dtype=tf.int32,\n",
    "            back_prop=False)\n",
    "        return loc_pred_abs, selected_indices_padded, valid_outputs"
   ]
  },
  {
   "cell_type": "markdown",
   "metadata": {},
   "source": [
    "## Create network"
   ]
  },
  {
   "cell_type": "code",
   "execution_count": 80,
   "metadata": {},
   "outputs": [],
   "source": [
    "from fastestimator.op.tensorop.model import ModelOp"
   ]
  },
  {
   "cell_type": "code",
   "execution_count": 81,
   "metadata": {},
   "outputs": [],
   "source": [
    "# prepare model\n",
    "#10 + 1 comess from 10 classes plus bg class\n",
    "model = fe.build(model_def=lambda: RetinaNet(input_shape=(HEIGHT, WIDTH, 3), num_classes=10 + 1),\n",
    "                 model_name=\"retinanet\",\n",
    "                 optimizer=tf.optimizers.Adam(learning_rate=0.0001),\n",
    "                 loss_name=\"loss\")"
   ]
  },
  {
   "cell_type": "code",
   "execution_count": 82,
   "metadata": {},
   "outputs": [],
   "source": [
    "network = fe.Network(ops=[\n",
    "    ModelOp(inputs=\"image\", model=model, outputs=[\"pred_cls\", \"pred_loc\"]),\n",
    "    RetinaLoss(inputs=(\"target_cls\", \"target_loc\", \"pred_cls\", \"pred_loc\"), outputs=\"loss\"),\n",
    "])\n"
   ]
  },
  {
   "cell_type": "markdown",
   "metadata": {},
   "source": [
    "### Create estimator"
   ]
  },
  {
   "cell_type": "code",
   "execution_count": 83,
   "metadata": {},
   "outputs": [],
   "source": [
    "from fastestimator.trace.adapt.lr_controller import LRController"
   ]
  },
  {
   "cell_type": "code",
   "execution_count": 84,
   "metadata": {},
   "outputs": [],
   "source": [
    "# prepare estimator\n",
    "model_dir = '/home/ubuntu/SVHN/bestmodel'\n",
    "traces = [\n",
    "    LRController(model_name=\"retinanet\", reduce_on_eval=True, reduce_patience=2),\n",
    "    ModelSaver(model_name=\"retinanet\", save_dir=model_dir, save_best=True)\n",
    "]\n",
    "estimator = fe.Estimator(network=network,\n",
    "                         pipeline=pipeline,\n",
    "                         epochs=100,\n",
    "                         steps_per_epoch=5,\n",
    "                         log_steps=5,\n",
    "                         traces=traces)"
   ]
  },
  {
   "cell_type": "code",
   "execution_count": 85,
   "metadata": {
    "scrolled": true
   },
   "outputs": [
    {
     "name": "stdout",
     "output_type": "stream",
     "text": [
      "    ______           __  ______     __  _                 __            \n",
      "   / ____/___ ______/ /_/ ____/____/ /_(_)___ ___  ____ _/ /_____  _____\n",
      "  / /_  / __ `/ ___/ __/ __/ / ___/ __/ / __ `__ \\/ __ `/ __/ __ \\/ ___/\n",
      " / __/ / /_/ (__  ) /_/ /___(__  ) /_/ / / / / / / /_/ / /_/ /_/ / /    \n",
      "/_/    \\__,_/____/\\__/_____/____/\\__/_/_/ /_/ /_/\\__,_/\\__/\\____/_/     \n",
      "                                                                        \n",
      "\n",
      "FastEstimator: Reading non-empty directory: /home/ubuntu/SVHN/tfrecords\n",
      "FastEstimator: Found 3000 examples for train in /home/ubuntu/SVHN/tfrecords/train_summary0.json\n",
      "FastEstimator: Found 50 examples for eval in /home/ubuntu/SVHN/tfrecords/eval_summary0.json\n",
      "FastEstimator-Start: step: 0; total_train_steps: 500; retinanet_lr: 1e-04; \n",
      "FastEstimator-Train: step: 0; loss: 1460.3562; retinanet_lr: 0.0001; \n",
      "FastEstimator-ModelSaver: Saving model to /home/ubuntu/SVHN/bestmodel/retinanet_best_loss.h5\n",
      "FastEstimator-Eval: step: 5; epoch: 0; loss: 1279.7719; min_loss: 1279.7719; since_best_loss: 0; \n",
      "FastEstimator-Train: step: 5; loss: 1007.2745; examples/sec: 29.8; progress: 1.0%; retinanet_lr: 0.0001; \n",
      "FastEstimator-ModelSaver: Saving model to /home/ubuntu/SVHN/bestmodel/retinanet_best_loss.h5\n",
      "FastEstimator-Eval: step: 10; epoch: 1; loss: 92.298485; min_loss: 92.298485; since_best_loss: 0; \n",
      "FastEstimator-Train: step: 10; loss: 26.162249; examples/sec: 28.0; progress: 2.0%; retinanet_lr: 0.0001; \n",
      "FastEstimator-ModelSaver: Saving model to /home/ubuntu/SVHN/bestmodel/retinanet_best_loss.h5\n",
      "FastEstimator-Eval: step: 15; epoch: 2; loss: 25.690819; min_loss: 25.690819; since_best_loss: 0; \n",
      "FastEstimator-Train: step: 15; loss: 12.340834; examples/sec: 28.2; progress: 3.0%; retinanet_lr: 0.0001; \n",
      "FastEstimator-ModelSaver: Saving model to /home/ubuntu/SVHN/bestmodel/retinanet_best_loss.h5\n",
      "FastEstimator-Eval: step: 20; epoch: 3; loss: 16.875402; min_loss: 16.875402; since_best_loss: 0; \n",
      "FastEstimator-Train: step: 20; loss: 15.215489; examples/sec: 28.1; progress: 4.0%; retinanet_lr: 0.0001; \n",
      "FastEstimator-Eval: step: 25; epoch: 4; loss: 17.08707; min_loss: 16.875402; since_best_loss: 1; \n",
      "FastEstimator-Train: step: 25; loss: 14.936939; examples/sec: 28.4; progress: 5.0%; retinanet_lr: 0.0001; \n",
      "FastEstimator-LRController: learning rate reduced by factor of 0.1\n",
      "FastEstimator-Eval: step: 30; epoch: 5; loss: 17.02778; min_loss: 16.875402; since_best_loss: 2; \n",
      "FastEstimator-Train: step: 30; loss: 15.641888; examples/sec: 28.2; progress: 6.0%; retinanet_lr: 1e-05; \n",
      "FastEstimator-Eval: step: 35; epoch: 6; loss: 17.010498; min_loss: 16.875402; since_best_loss: 3; \n",
      "FastEstimator-Train: step: 35; loss: 15.510237; examples/sec: 28.3; progress: 7.0%; retinanet_lr: 1e-05; \n",
      "FastEstimator-LRController: learning rate reduced by factor of 0.1\n",
      "FastEstimator-Eval: step: 40; epoch: 7; loss: 16.937935; min_loss: 16.875402; since_best_loss: 4; \n",
      "FastEstimator-Train: step: 40; loss: 15.689761; examples/sec: 28.3; progress: 8.0%; retinanet_lr: 1e-06; \n",
      "FastEstimator-Eval: step: 45; epoch: 8; loss: 16.89264; min_loss: 16.875402; since_best_loss: 5; \n",
      "FastEstimator-Train: step: 45; loss: 13.176857; examples/sec: 28.5; progress: 9.0%; retinanet_lr: 1e-06; \n",
      "FastEstimator-ModelSaver: Saving model to /home/ubuntu/SVHN/bestmodel/retinanet_best_loss.h5\n",
      "FastEstimator-Eval: step: 50; epoch: 9; loss: 16.86212; min_loss: 16.86212; since_best_loss: 0; \n",
      "FastEstimator-Train: step: 50; loss: 10.3521805; examples/sec: 27.9; progress: 10.0%; retinanet_lr: 1e-06; \n",
      "FastEstimator-Eval: step: 55; epoch: 10; loss: 16.863512; min_loss: 16.86212; since_best_loss: 1; \n",
      "FastEstimator-Train: step: 55; loss: 16.095354; examples/sec: 28.3; progress: 11.0%; retinanet_lr: 1e-06; \n",
      "FastEstimator-LRController: learning rate reduced by factor of 0.1\n",
      "FastEstimator-Eval: step: 60; epoch: 11; loss: 16.883385; min_loss: 16.86212; since_best_loss: 2; \n",
      "FastEstimator-Train: step: 60; loss: 14.738416; examples/sec: 28.2; progress: 12.0%; retinanet_lr: 1e-06; \n",
      "FastEstimator-Eval: step: 65; epoch: 12; loss: 16.90753; min_loss: 16.86212; since_best_loss: 3; \n",
      "FastEstimator-Train: step: 65; loss: 15.811481; examples/sec: 27.9; progress: 13.0%; retinanet_lr: 1e-06; \n",
      "FastEstimator-LRController: learning rate reduced by factor of 0.1\n",
      "FastEstimator-Eval: step: 70; epoch: 13; loss: 16.902052; min_loss: 16.86212; since_best_loss: 4; \n",
      "FastEstimator-Train: step: 70; loss: 13.134899; examples/sec: 27.9; progress: 14.0%; retinanet_lr: 1e-06; \n",
      "FastEstimator-Eval: step: 75; epoch: 14; loss: 16.866522; min_loss: 16.86212; since_best_loss: 5; \n",
      "FastEstimator-Train: step: 75; loss: 12.300512; examples/sec: 28.3; progress: 15.0%; retinanet_lr: 1e-06; \n",
      "FastEstimator-ModelSaver: Saving model to /home/ubuntu/SVHN/bestmodel/retinanet_best_loss.h5\n",
      "FastEstimator-Eval: step: 80; epoch: 15; loss: 16.850838; min_loss: 16.850838; since_best_loss: 0; \n",
      "FastEstimator-Train: step: 80; loss: 11.239954; examples/sec: 28.2; progress: 16.0%; retinanet_lr: 1e-06; \n",
      "FastEstimator-Eval: step: 85; epoch: 16; loss: 16.85424; min_loss: 16.850838; since_best_loss: 1; \n",
      "FastEstimator-Train: step: 85; loss: 14.182752; examples/sec: 28.3; progress: 17.0%; retinanet_lr: 1e-06; \n",
      "FastEstimator-LRController: learning rate reduced by factor of 0.1\n",
      "FastEstimator-Eval: step: 90; epoch: 17; loss: 16.881964; min_loss: 16.850838; since_best_loss: 2; \n",
      "FastEstimator-Train: step: 90; loss: 16.004372; examples/sec: 28.4; progress: 18.0%; retinanet_lr: 1e-06; \n",
      "FastEstimator-Eval: step: 95; epoch: 18; loss: 16.866127; min_loss: 16.850838; since_best_loss: 3; \n",
      "FastEstimator-Train: step: 95; loss: 12.614338; examples/sec: 28.4; progress: 19.0%; retinanet_lr: 1e-06; \n",
      "FastEstimator-ModelSaver: Saving model to /home/ubuntu/SVHN/bestmodel/retinanet_best_loss.h5\n",
      "FastEstimator-Eval: step: 100; epoch: 19; loss: 16.84935; min_loss: 16.84935; since_best_loss: 0; \n",
      "FastEstimator-Train: step: 100; loss: 10.215273; examples/sec: 28.1; progress: 20.0%; retinanet_lr: 1e-06; \n",
      "FastEstimator-ModelSaver: Saving model to /home/ubuntu/SVHN/bestmodel/retinanet_best_loss.h5\n",
      "FastEstimator-Eval: step: 105; epoch: 20; loss: 16.845165; min_loss: 16.845165; since_best_loss: 0; \n",
      "FastEstimator-Train: step: 105; loss: 15.477477; examples/sec: 28.3; progress: 21.0%; retinanet_lr: 1e-06; \n",
      "FastEstimator-Eval: step: 110; epoch: 21; loss: 16.857838; min_loss: 16.845165; since_best_loss: 1; \n",
      "FastEstimator-Train: step: 110; loss: 11.47013; examples/sec: 28.1; progress: 22.0%; retinanet_lr: 1e-06; \n",
      "FastEstimator-LRController: learning rate reduced by factor of 0.1\n",
      "FastEstimator-Eval: step: 115; epoch: 22; loss: 16.853107; min_loss: 16.845165; since_best_loss: 2; \n",
      "FastEstimator-Train: step: 115; loss: 14.866669; examples/sec: 28.2; progress: 23.0%; retinanet_lr: 1e-06; \n",
      "FastEstimator-Eval: step: 120; epoch: 23; loss: 16.850214; min_loss: 16.845165; since_best_loss: 3; \n",
      "FastEstimator-Train: step: 120; loss: 15.278753; examples/sec: 28.4; progress: 24.0%; retinanet_lr: 1e-06; \n",
      "FastEstimator-ModelSaver: Saving model to /home/ubuntu/SVHN/bestmodel/retinanet_best_loss.h5\n",
      "FastEstimator-Eval: step: 125; epoch: 24; loss: 16.84378; min_loss: 16.84378; since_best_loss: 0; \n",
      "FastEstimator-Train: step: 125; loss: 13.371885; examples/sec: 28.2; progress: 25.0%; retinanet_lr: 1e-06; \n",
      "FastEstimator-ModelSaver: Saving model to /home/ubuntu/SVHN/bestmodel/retinanet_best_loss.h5\n",
      "FastEstimator-Eval: step: 130; epoch: 25; loss: 16.84073; min_loss: 16.84073; since_best_loss: 0; \n",
      "FastEstimator-Train: step: 130; loss: 14.983405; examples/sec: 28.2; progress: 26.0%; retinanet_lr: 1e-06; \n",
      "FastEstimator-ModelSaver: Saving model to /home/ubuntu/SVHN/bestmodel/retinanet_best_loss.h5\n",
      "FastEstimator-Eval: step: 135; epoch: 26; loss: 16.83384; min_loss: 16.83384; since_best_loss: 0; \n",
      "FastEstimator-Train: step: 135; loss: 16.03925; examples/sec: 28.2; progress: 27.0%; retinanet_lr: 1e-06; \n",
      "FastEstimator-ModelSaver: Saving model to /home/ubuntu/SVHN/bestmodel/retinanet_best_loss.h5\n",
      "FastEstimator-Eval: step: 140; epoch: 27; loss: 16.827337; min_loss: 16.827337; since_best_loss: 0; \n",
      "FastEstimator-Train: step: 140; loss: 12.230772; examples/sec: 28.3; progress: 28.0%; retinanet_lr: 1e-06; \n",
      "FastEstimator-Eval: step: 145; epoch: 28; loss: 16.83795; min_loss: 16.827337; since_best_loss: 1; \n",
      "FastEstimator-Train: step: 145; loss: 15.190093; examples/sec: 28.3; progress: 29.0%; retinanet_lr: 1e-06; \n"
     ]
    },
    {
     "name": "stdout",
     "output_type": "stream",
     "text": [
      "FastEstimator-LRController: learning rate reduced by factor of 0.1\n",
      "FastEstimator-Eval: step: 150; epoch: 29; loss: 16.85002; min_loss: 16.827337; since_best_loss: 2; \n",
      "FastEstimator-Train: step: 150; loss: 14.086947; examples/sec: 28.2; progress: 30.0%; retinanet_lr: 1e-06; \n",
      "FastEstimator-Eval: step: 155; epoch: 30; loss: 16.86453; min_loss: 16.827337; since_best_loss: 3; \n",
      "FastEstimator-Train: step: 155; loss: 10.031924; examples/sec: 28.4; progress: 31.0%; retinanet_lr: 1e-06; \n",
      "FastEstimator-LRController: learning rate reduced by factor of 0.1\n",
      "FastEstimator-Eval: step: 160; epoch: 31; loss: 16.88179; min_loss: 16.827337; since_best_loss: 4; \n",
      "FastEstimator-Train: step: 160; loss: 13.856673; examples/sec: 28.4; progress: 32.0%; retinanet_lr: 1e-06; \n",
      "FastEstimator-Eval: step: 165; epoch: 32; loss: 16.901705; min_loss: 16.827337; since_best_loss: 5; \n",
      "FastEstimator-Train: step: 165; loss: 14.077512; examples/sec: 28.4; progress: 33.0%; retinanet_lr: 1e-06; \n",
      "FastEstimator-LRController: learning rate reduced by factor of 0.1\n",
      "FastEstimator-Eval: step: 170; epoch: 33; loss: 16.903887; min_loss: 16.827337; since_best_loss: 6; \n",
      "FastEstimator-Train: step: 170; loss: 14.606172; examples/sec: 28.4; progress: 34.0%; retinanet_lr: 1e-06; \n",
      "FastEstimator-Eval: step: 175; epoch: 34; loss: 16.892176; min_loss: 16.827337; since_best_loss: 7; \n",
      "FastEstimator-Train: step: 175; loss: 14.8558445; examples/sec: 28.1; progress: 35.0%; retinanet_lr: 1e-06; \n",
      "FastEstimator-LRController: learning rate reduced by factor of 0.1\n",
      "FastEstimator-Eval: step: 180; epoch: 35; loss: 16.89286; min_loss: 16.827337; since_best_loss: 8; \n",
      "FastEstimator-Train: step: 180; loss: 13.401583; examples/sec: 28.3; progress: 36.0%; retinanet_lr: 1e-06; \n",
      "FastEstimator-Eval: step: 185; epoch: 36; loss: 16.900417; min_loss: 16.827337; since_best_loss: 9; \n",
      "FastEstimator-Train: step: 185; loss: 15.45749; examples/sec: 28.4; progress: 37.0%; retinanet_lr: 1e-06; \n",
      "FastEstimator-LRController: learning rate reduced by factor of 0.1\n",
      "FastEstimator-Eval: step: 190; epoch: 37; loss: 16.889929; min_loss: 16.827337; since_best_loss: 10; \n",
      "FastEstimator-Train: step: 190; loss: 14.390667; examples/sec: 28.2; progress: 38.0%; retinanet_lr: 1e-06; \n",
      "FastEstimator-Eval: step: 195; epoch: 38; loss: 16.876324; min_loss: 16.827337; since_best_loss: 11; \n",
      "FastEstimator-Train: step: 195; loss: 15.784699; examples/sec: 28.2; progress: 39.0%; retinanet_lr: 1e-06; \n",
      "FastEstimator-LRController: learning rate reduced by factor of 0.1\n",
      "FastEstimator-Eval: step: 200; epoch: 39; loss: 16.849651; min_loss: 16.827337; since_best_loss: 12; \n",
      "FastEstimator-Train: step: 200; loss: 15.737736; examples/sec: 28.2; progress: 40.0%; retinanet_lr: 1e-06; \n",
      "FastEstimator-ModelSaver: Saving model to /home/ubuntu/SVHN/bestmodel/retinanet_best_loss.h5\n",
      "FastEstimator-Eval: step: 205; epoch: 40; loss: 16.824932; min_loss: 16.824932; since_best_loss: 0; \n",
      "FastEstimator-Train: step: 205; loss: 11.964445; examples/sec: 27.8; progress: 41.0%; retinanet_lr: 1e-06; \n",
      "FastEstimator-ModelSaver: Saving model to /home/ubuntu/SVHN/bestmodel/retinanet_best_loss.h5\n",
      "FastEstimator-Eval: step: 210; epoch: 41; loss: 16.805445; min_loss: 16.805445; since_best_loss: 0; \n",
      "FastEstimator-Train: step: 210; loss: 15.780885; examples/sec: 27.8; progress: 42.0%; retinanet_lr: 1e-06; \n",
      "FastEstimator-ModelSaver: Saving model to /home/ubuntu/SVHN/bestmodel/retinanet_best_loss.h5\n",
      "FastEstimator-Eval: step: 215; epoch: 42; loss: 16.785225; min_loss: 16.785225; since_best_loss: 0; \n",
      "FastEstimator-Train: step: 215; loss: 14.844802; examples/sec: 27.7; progress: 43.0%; retinanet_lr: 1e-06; \n",
      "FastEstimator-ModelSaver: Saving model to /home/ubuntu/SVHN/bestmodel/retinanet_best_loss.h5\n",
      "FastEstimator-Eval: step: 220; epoch: 43; loss: 16.777771; min_loss: 16.777771; since_best_loss: 0; \n",
      "FastEstimator-Train: step: 220; loss: 12.988657; examples/sec: 27.9; progress: 44.0%; retinanet_lr: 1e-06; \n",
      "FastEstimator-ModelSaver: Saving model to /home/ubuntu/SVHN/bestmodel/retinanet_best_loss.h5\n",
      "FastEstimator-Eval: step: 225; epoch: 44; loss: 16.764215; min_loss: 16.764215; since_best_loss: 0; \n",
      "FastEstimator-Train: step: 225; loss: 11.565958; examples/sec: 28.3; progress: 45.0%; retinanet_lr: 1e-06; \n",
      "FastEstimator-ModelSaver: Saving model to /home/ubuntu/SVHN/bestmodel/retinanet_best_loss.h5\n",
      "FastEstimator-Eval: step: 230; epoch: 45; loss: 16.754631; min_loss: 16.754631; since_best_loss: 0; \n",
      "FastEstimator-Train: step: 230; loss: 9.292917; examples/sec: 28.4; progress: 46.0%; retinanet_lr: 1e-06; \n",
      "FastEstimator-ModelSaver: Saving model to /home/ubuntu/SVHN/bestmodel/retinanet_best_loss.h5\n",
      "FastEstimator-Eval: step: 235; epoch: 46; loss: 16.748638; min_loss: 16.748638; since_best_loss: 0; \n",
      "FastEstimator-Train: step: 235; loss: 13.403516; examples/sec: 28.4; progress: 47.0%; retinanet_lr: 1e-06; \n",
      "FastEstimator-ModelSaver: Saving model to /home/ubuntu/SVHN/bestmodel/retinanet_best_loss.h5\n",
      "FastEstimator-Eval: step: 240; epoch: 47; loss: 16.745188; min_loss: 16.745188; since_best_loss: 0; \n",
      "FastEstimator-Train: step: 240; loss: 10.704596; examples/sec: 28.0; progress: 48.0%; retinanet_lr: 1e-06; \n",
      "FastEstimator-ModelSaver: Saving model to /home/ubuntu/SVHN/bestmodel/retinanet_best_loss.h5\n",
      "FastEstimator-Eval: step: 245; epoch: 48; loss: 16.73183; min_loss: 16.73183; since_best_loss: 0; \n",
      "FastEstimator-Train: step: 245; loss: 12.0275135; examples/sec: 28.0; progress: 49.0%; retinanet_lr: 1e-06; \n",
      "FastEstimator-ModelSaver: Saving model to /home/ubuntu/SVHN/bestmodel/retinanet_best_loss.h5\n",
      "FastEstimator-Eval: step: 250; epoch: 49; loss: 16.731567; min_loss: 16.731567; since_best_loss: 0; \n",
      "FastEstimator-Train: step: 250; loss: 13.067861; examples/sec: 28.4; progress: 50.0%; retinanet_lr: 1e-06; \n",
      "FastEstimator-ModelSaver: Saving model to /home/ubuntu/SVHN/bestmodel/retinanet_best_loss.h5\n",
      "FastEstimator-Eval: step: 255; epoch: 50; loss: 16.697966; min_loss: 16.697966; since_best_loss: 0; \n",
      "FastEstimator-Train: step: 255; loss: 13.808917; examples/sec: 27.7; progress: 51.0%; retinanet_lr: 1e-06; \n",
      "FastEstimator-ModelSaver: Saving model to /home/ubuntu/SVHN/bestmodel/retinanet_best_loss.h5\n",
      "FastEstimator-Eval: step: 260; epoch: 51; loss: 16.683428; min_loss: 16.683428; since_best_loss: 0; \n",
      "FastEstimator-Train: step: 260; loss: 14.990635; examples/sec: 27.9; progress: 52.0%; retinanet_lr: 1e-06; \n",
      "FastEstimator-ModelSaver: Saving model to /home/ubuntu/SVHN/bestmodel/retinanet_best_loss.h5\n",
      "FastEstimator-Eval: step: 265; epoch: 52; loss: 16.658695; min_loss: 16.658695; since_best_loss: 0; \n",
      "FastEstimator-Train: step: 265; loss: 13.2795315; examples/sec: 28.3; progress: 53.0%; retinanet_lr: 1e-06; \n",
      "FastEstimator-ModelSaver: Saving model to /home/ubuntu/SVHN/bestmodel/retinanet_best_loss.h5\n",
      "FastEstimator-Eval: step: 270; epoch: 53; loss: 16.655287; min_loss: 16.655287; since_best_loss: 0; \n",
      "FastEstimator-Train: step: 270; loss: 14.592675; examples/sec: 28.2; progress: 54.0%; retinanet_lr: 1e-06; \n",
      "FastEstimator-Eval: step: 275; epoch: 54; loss: 16.656406; min_loss: 16.655287; since_best_loss: 1; \n",
      "FastEstimator-Train: step: 275; loss: 13.138962; examples/sec: 28.4; progress: 55.0%; retinanet_lr: 1e-06; \n",
      "FastEstimator-LRController: learning rate reduced by factor of 0.1\n",
      "FastEstimator-Eval: step: 280; epoch: 55; loss: 16.656696; min_loss: 16.655287; since_best_loss: 2; \n",
      "FastEstimator-Train: step: 280; loss: 13.602581; examples/sec: 28.4; progress: 56.0%; retinanet_lr: 1e-06; \n",
      "FastEstimator-Eval: step: 285; epoch: 56; loss: 16.659147; min_loss: 16.655287; since_best_loss: 3; \n",
      "FastEstimator-Train: step: 285; loss: 9.154713; examples/sec: 28.0; progress: 57.0%; retinanet_lr: 1e-06; \n",
      "FastEstimator-ModelSaver: Saving model to /home/ubuntu/SVHN/bestmodel/retinanet_best_loss.h5\n",
      "FastEstimator-Eval: step: 290; epoch: 57; loss: 16.652624; min_loss: 16.652624; since_best_loss: 0; \n",
      "FastEstimator-Train: step: 290; loss: 15.65704; examples/sec: 28.4; progress: 58.0%; retinanet_lr: 1e-06; \n",
      "FastEstimator-Eval: step: 295; epoch: 58; loss: 16.659676; min_loss: 16.652624; since_best_loss: 1; \n",
      "FastEstimator-Train: step: 295; loss: 14.757352; examples/sec: 28.4; progress: 59.0%; retinanet_lr: 1e-06; \n",
      "FastEstimator-ModelSaver: Saving model to /home/ubuntu/SVHN/bestmodel/retinanet_best_loss.h5\n",
      "FastEstimator-Eval: step: 300; epoch: 59; loss: 16.651596; min_loss: 16.651596; since_best_loss: 0; \n",
      "FastEstimator-Train: step: 300; loss: 14.790421; examples/sec: 28.2; progress: 60.0%; retinanet_lr: 1e-06; \n"
     ]
    },
    {
     "name": "stdout",
     "output_type": "stream",
     "text": [
      "FastEstimator-Eval: step: 305; epoch: 60; loss: 16.656298; min_loss: 16.651596; since_best_loss: 1; \n",
      "FastEstimator-Train: step: 305; loss: 11.874725; examples/sec: 28.3; progress: 61.0%; retinanet_lr: 1e-06; \n",
      "FastEstimator-LRController: learning rate reduced by factor of 0.1\n",
      "FastEstimator-Eval: step: 310; epoch: 61; loss: 16.65303; min_loss: 16.651596; since_best_loss: 2; \n",
      "FastEstimator-Train: step: 310; loss: 8.52909; examples/sec: 28.0; progress: 62.0%; retinanet_lr: 1e-06; \n",
      "FastEstimator-ModelSaver: Saving model to /home/ubuntu/SVHN/bestmodel/retinanet_best_loss.h5\n",
      "FastEstimator-Eval: step: 315; epoch: 62; loss: 16.647308; min_loss: 16.647308; since_best_loss: 0; \n",
      "FastEstimator-Train: step: 315; loss: 11.832939; examples/sec: 28.1; progress: 63.0%; retinanet_lr: 1e-06; \n",
      "FastEstimator-ModelSaver: Saving model to /home/ubuntu/SVHN/bestmodel/retinanet_best_loss.h5\n",
      "FastEstimator-Eval: step: 320; epoch: 63; loss: 16.631378; min_loss: 16.631378; since_best_loss: 0; \n",
      "FastEstimator-Train: step: 320; loss: 12.698764; examples/sec: 28.1; progress: 64.0%; retinanet_lr: 1e-06; \n",
      "FastEstimator-ModelSaver: Saving model to /home/ubuntu/SVHN/bestmodel/retinanet_best_loss.h5\n",
      "FastEstimator-Eval: step: 325; epoch: 64; loss: 16.60762; min_loss: 16.60762; since_best_loss: 0; \n",
      "FastEstimator-Train: step: 325; loss: 14.455569; examples/sec: 28.1; progress: 65.0%; retinanet_lr: 1e-06; \n",
      "FastEstimator-ModelSaver: Saving model to /home/ubuntu/SVHN/bestmodel/retinanet_best_loss.h5\n",
      "FastEstimator-Eval: step: 330; epoch: 65; loss: 16.592434; min_loss: 16.592434; since_best_loss: 0; \n",
      "FastEstimator-Train: step: 330; loss: 12.563791; examples/sec: 28.2; progress: 66.0%; retinanet_lr: 1e-06; \n",
      "FastEstimator-ModelSaver: Saving model to /home/ubuntu/SVHN/bestmodel/retinanet_best_loss.h5\n",
      "FastEstimator-Eval: step: 335; epoch: 66; loss: 16.578554; min_loss: 16.578554; since_best_loss: 0; \n",
      "FastEstimator-Train: step: 335; loss: 13.130177; examples/sec: 28.1; progress: 67.0%; retinanet_lr: 1e-06; \n",
      "FastEstimator-ModelSaver: Saving model to /home/ubuntu/SVHN/bestmodel/retinanet_best_loss.h5\n",
      "FastEstimator-Eval: step: 340; epoch: 67; loss: 16.553637; min_loss: 16.553637; since_best_loss: 0; \n",
      "FastEstimator-Train: step: 340; loss: 13.959003; examples/sec: 28.1; progress: 68.0%; retinanet_lr: 1e-06; \n",
      "FastEstimator-ModelSaver: Saving model to /home/ubuntu/SVHN/bestmodel/retinanet_best_loss.h5\n",
      "FastEstimator-Eval: step: 345; epoch: 68; loss: 16.532198; min_loss: 16.532198; since_best_loss: 0; \n",
      "FastEstimator-Train: step: 345; loss: 8.66982; examples/sec: 28.2; progress: 69.0%; retinanet_lr: 1e-06; \n",
      "FastEstimator-ModelSaver: Saving model to /home/ubuntu/SVHN/bestmodel/retinanet_best_loss.h5\n",
      "FastEstimator-Eval: step: 350; epoch: 69; loss: 16.523859; min_loss: 16.523859; since_best_loss: 0; \n",
      "FastEstimator-Train: step: 350; loss: 9.387539; examples/sec: 28.3; progress: 70.0%; retinanet_lr: 1e-06; \n",
      "FastEstimator-ModelSaver: Saving model to /home/ubuntu/SVHN/bestmodel/retinanet_best_loss.h5\n",
      "FastEstimator-Eval: step: 355; epoch: 70; loss: 16.514912; min_loss: 16.514912; since_best_loss: 0; \n",
      "FastEstimator-Train: step: 355; loss: 11.049103; examples/sec: 28.0; progress: 71.0%; retinanet_lr: 1e-06; \n",
      "FastEstimator-ModelSaver: Saving model to /home/ubuntu/SVHN/bestmodel/retinanet_best_loss.h5\n",
      "FastEstimator-Eval: step: 360; epoch: 71; loss: 16.507082; min_loss: 16.507082; since_best_loss: 0; \n",
      "FastEstimator-Train: step: 360; loss: 14.974116; examples/sec: 28.1; progress: 72.0%; retinanet_lr: 1e-06; \n",
      "FastEstimator-ModelSaver: Saving model to /home/ubuntu/SVHN/bestmodel/retinanet_best_loss.h5\n",
      "FastEstimator-Eval: step: 365; epoch: 72; loss: 16.50038; min_loss: 16.50038; since_best_loss: 0; \n",
      "FastEstimator-Train: step: 365; loss: 12.495997; examples/sec: 28.3; progress: 73.0%; retinanet_lr: 1e-06; \n",
      "FastEstimator-ModelSaver: Saving model to /home/ubuntu/SVHN/bestmodel/retinanet_best_loss.h5\n",
      "FastEstimator-Eval: step: 370; epoch: 73; loss: 16.489847; min_loss: 16.489847; since_best_loss: 0; \n",
      "FastEstimator-Train: step: 370; loss: 27.098717; examples/sec: 28.2; progress: 74.0%; retinanet_lr: 1e-06; \n",
      "FastEstimator-ModelSaver: Saving model to /home/ubuntu/SVHN/bestmodel/retinanet_best_loss.h5\n",
      "FastEstimator-Eval: step: 375; epoch: 74; loss: 16.48579; min_loss: 16.48579; since_best_loss: 0; \n",
      "FastEstimator-Train: step: 375; loss: 10.652445; examples/sec: 28.3; progress: 75.0%; retinanet_lr: 1e-06; \n",
      "FastEstimator-ModelSaver: Saving model to /home/ubuntu/SVHN/bestmodel/retinanet_best_loss.h5\n",
      "FastEstimator-Eval: step: 380; epoch: 75; loss: 16.47024; min_loss: 16.47024; since_best_loss: 0; \n",
      "FastEstimator-Train: step: 380; loss: 12.612272; examples/sec: 28.2; progress: 76.0%; retinanet_lr: 1e-06; \n",
      "FastEstimator-Eval: step: 385; epoch: 76; loss: 16.475382; min_loss: 16.47024; since_best_loss: 1; \n",
      "FastEstimator-Train: step: 385; loss: 14.124789; examples/sec: 27.8; progress: 77.0%; retinanet_lr: 1e-06; \n",
      "FastEstimator-LRController: learning rate reduced by factor of 0.1\n",
      "FastEstimator-Eval: step: 390; epoch: 77; loss: 16.477474; min_loss: 16.47024; since_best_loss: 2; \n",
      "FastEstimator-Train: step: 390; loss: 11.01007; examples/sec: 28.4; progress: 78.0%; retinanet_lr: 1e-06; \n",
      "FastEstimator-ModelSaver: Saving model to /home/ubuntu/SVHN/bestmodel/retinanet_best_loss.h5\n",
      "FastEstimator-Eval: step: 395; epoch: 78; loss: 16.455845; min_loss: 16.455845; since_best_loss: 0; \n",
      "FastEstimator-Train: step: 395; loss: 10.600634; examples/sec: 28.0; progress: 79.0%; retinanet_lr: 1e-06; \n",
      "FastEstimator-ModelSaver: Saving model to /home/ubuntu/SVHN/bestmodel/retinanet_best_loss.h5\n",
      "FastEstimator-Eval: step: 400; epoch: 79; loss: 16.450222; min_loss: 16.450222; since_best_loss: 0; \n",
      "FastEstimator-Train: step: 400; loss: 12.565276; examples/sec: 28.4; progress: 80.0%; retinanet_lr: 1e-06; \n",
      "FastEstimator-ModelSaver: Saving model to /home/ubuntu/SVHN/bestmodel/retinanet_best_loss.h5\n",
      "FastEstimator-Eval: step: 405; epoch: 80; loss: 16.444527; min_loss: 16.444527; since_best_loss: 0; \n",
      "FastEstimator-Train: step: 405; loss: 14.351418; examples/sec: 27.8; progress: 81.0%; retinanet_lr: 1e-06; \n",
      "FastEstimator-ModelSaver: Saving model to /home/ubuntu/SVHN/bestmodel/retinanet_best_loss.h5\n",
      "FastEstimator-Eval: step: 410; epoch: 81; loss: 16.440598; min_loss: 16.440598; since_best_loss: 0; \n",
      "FastEstimator-Train: step: 410; loss: 14.04331; examples/sec: 28.0; progress: 82.0%; retinanet_lr: 1e-06; \n",
      "FastEstimator-ModelSaver: Saving model to /home/ubuntu/SVHN/bestmodel/retinanet_best_loss.h5\n",
      "FastEstimator-Eval: step: 415; epoch: 82; loss: 16.431623; min_loss: 16.431623; since_best_loss: 0; \n",
      "FastEstimator-Train: step: 415; loss: 8.936896; examples/sec: 28.0; progress: 83.0%; retinanet_lr: 1e-06; \n",
      "FastEstimator-ModelSaver: Saving model to /home/ubuntu/SVHN/bestmodel/retinanet_best_loss.h5\n",
      "FastEstimator-Eval: step: 420; epoch: 83; loss: 16.416496; min_loss: 16.416496; since_best_loss: 0; \n",
      "FastEstimator-Train: step: 420; loss: 5.948449; examples/sec: 28.2; progress: 84.0%; retinanet_lr: 1e-06; \n",
      "FastEstimator-ModelSaver: Saving model to /home/ubuntu/SVHN/bestmodel/retinanet_best_loss.h5\n",
      "FastEstimator-Eval: step: 425; epoch: 84; loss: 16.404497; min_loss: 16.404497; since_best_loss: 0; \n",
      "FastEstimator-Train: step: 425; loss: 12.048787; examples/sec: 28.0; progress: 85.0%; retinanet_lr: 1e-06; \n",
      "FastEstimator-ModelSaver: Saving model to /home/ubuntu/SVHN/bestmodel/retinanet_best_loss.h5\n",
      "FastEstimator-Eval: step: 430; epoch: 85; loss: 16.370434; min_loss: 16.370434; since_best_loss: 0; \n",
      "FastEstimator-Train: step: 430; loss: 9.030422; examples/sec: 28.2; progress: 86.0%; retinanet_lr: 1e-06; \n",
      "FastEstimator-Eval: step: 435; epoch: 86; loss: 16.380896; min_loss: 16.370434; since_best_loss: 1; \n",
      "FastEstimator-Train: step: 435; loss: 6.709299; examples/sec: 28.5; progress: 87.0%; retinanet_lr: 1e-06; \n",
      "FastEstimator-LRController: learning rate reduced by factor of 0.1\n",
      "FastEstimator-Eval: step: 440; epoch: 87; loss: 16.385658; min_loss: 16.370434; since_best_loss: 2; \n",
      "FastEstimator-Train: step: 440; loss: 8.551577; examples/sec: 28.0; progress: 88.0%; retinanet_lr: 1e-06; \n",
      "FastEstimator-Eval: step: 445; epoch: 88; loss: 16.372835; min_loss: 16.370434; since_best_loss: 3; \n",
      "FastEstimator-Train: step: 445; loss: 7.8976774; examples/sec: 28.2; progress: 89.0%; retinanet_lr: 1e-06; \n"
     ]
    },
    {
     "name": "stdout",
     "output_type": "stream",
     "text": [
      "FastEstimator-ModelSaver: Saving model to /home/ubuntu/SVHN/bestmodel/retinanet_best_loss.h5\n",
      "FastEstimator-Eval: step: 450; epoch: 89; loss: 16.350803; min_loss: 16.350803; since_best_loss: 0; \n",
      "FastEstimator-Train: step: 450; loss: 7.2259994; examples/sec: 28.3; progress: 90.0%; retinanet_lr: 1e-06; \n",
      "FastEstimator-ModelSaver: Saving model to /home/ubuntu/SVHN/bestmodel/retinanet_best_loss.h5\n",
      "FastEstimator-Eval: step: 455; epoch: 90; loss: 16.327404; min_loss: 16.327404; since_best_loss: 0; \n",
      "FastEstimator-Train: step: 455; loss: 7.9621167; examples/sec: 28.2; progress: 91.0%; retinanet_lr: 1e-06; \n",
      "FastEstimator-ModelSaver: Saving model to /home/ubuntu/SVHN/bestmodel/retinanet_best_loss.h5\n",
      "FastEstimator-Eval: step: 460; epoch: 91; loss: 16.279305; min_loss: 16.279305; since_best_loss: 0; \n",
      "FastEstimator-Train: step: 460; loss: 8.490832; examples/sec: 28.2; progress: 92.0%; retinanet_lr: 1e-06; \n",
      "FastEstimator-ModelSaver: Saving model to /home/ubuntu/SVHN/bestmodel/retinanet_best_loss.h5\n",
      "FastEstimator-Eval: step: 465; epoch: 92; loss: 16.241117; min_loss: 16.241117; since_best_loss: 0; \n",
      "FastEstimator-Train: step: 465; loss: 11.5837; examples/sec: 28.4; progress: 93.0%; retinanet_lr: 1e-06; \n",
      "FastEstimator-ModelSaver: Saving model to /home/ubuntu/SVHN/bestmodel/retinanet_best_loss.h5\n",
      "FastEstimator-Eval: step: 470; epoch: 93; loss: 16.208986; min_loss: 16.208986; since_best_loss: 0; \n",
      "FastEstimator-Train: step: 470; loss: 6.8457465; examples/sec: 28.0; progress: 94.0%; retinanet_lr: 1e-06; \n",
      "FastEstimator-ModelSaver: Saving model to /home/ubuntu/SVHN/bestmodel/retinanet_best_loss.h5\n",
      "FastEstimator-Eval: step: 475; epoch: 94; loss: 16.166302; min_loss: 16.166302; since_best_loss: 0; \n",
      "FastEstimator-Train: step: 475; loss: 7.3637266; examples/sec: 28.4; progress: 95.0%; retinanet_lr: 1e-06; \n",
      "FastEstimator-ModelSaver: Saving model to /home/ubuntu/SVHN/bestmodel/retinanet_best_loss.h5\n",
      "FastEstimator-Eval: step: 480; epoch: 95; loss: 16.126062; min_loss: 16.126062; since_best_loss: 0; \n",
      "FastEstimator-Train: step: 480; loss: 7.6619353; examples/sec: 28.3; progress: 96.0%; retinanet_lr: 1e-06; \n",
      "FastEstimator-ModelSaver: Saving model to /home/ubuntu/SVHN/bestmodel/retinanet_best_loss.h5\n",
      "FastEstimator-Eval: step: 485; epoch: 96; loss: 16.073162; min_loss: 16.073162; since_best_loss: 0; \n",
      "FastEstimator-Train: step: 485; loss: 10.819241; examples/sec: 28.3; progress: 97.0%; retinanet_lr: 1e-06; \n",
      "FastEstimator-ModelSaver: Saving model to /home/ubuntu/SVHN/bestmodel/retinanet_best_loss.h5\n",
      "FastEstimator-Eval: step: 490; epoch: 97; loss: 16.014084; min_loss: 16.014084; since_best_loss: 0; \n",
      "FastEstimator-Train: step: 490; loss: 9.640585; examples/sec: 28.3; progress: 98.0%; retinanet_lr: 1e-06; \n",
      "FastEstimator-ModelSaver: Saving model to /home/ubuntu/SVHN/bestmodel/retinanet_best_loss.h5\n",
      "FastEstimator-Eval: step: 495; epoch: 98; loss: 15.967673; min_loss: 15.967674; since_best_loss: 0; \n",
      "FastEstimator-Train: step: 495; loss: 9.383148; examples/sec: 28.2; progress: 99.0%; retinanet_lr: 1e-06; \n",
      "FastEstimator-ModelSaver: Saving model to /home/ubuntu/SVHN/bestmodel/retinanet_best_loss.h5\n",
      "FastEstimator-Eval: step: 500; epoch: 99; loss: 15.933741; min_loss: 15.933742; since_best_loss: 0; \n",
      "FastEstimator-Finish: step: 500; total_time: 159.75 sec; retinanet_lr: 1e-06; \n"
     ]
    }
   ],
   "source": [
    "estimator.fit()"
   ]
  },
  {
   "cell_type": "markdown",
   "metadata": {},
   "source": [
    "## Inference"
   ]
  },
  {
   "cell_type": "code",
   "execution_count": 86,
   "metadata": {},
   "outputs": [
    {
     "name": "stdout",
     "output_type": "stream",
     "text": [
      "WARNING:tensorflow:No training configuration found in save file: the model was *not* compiled. Compile it manually.\n"
     ]
    }
   ],
   "source": [
    "from tensorflow.keras.models import load_model\n",
    "model = load_model(os.path.join(path, 'bestmodel','retinanet_best_loss.h5'))"
   ]
  },
  {
   "cell_type": "code",
   "execution_count": 93,
   "metadata": {},
   "outputs": [],
   "source": [
    " cls_pred, loc_pred = model.predict(batch_images)"
   ]
  },
  {
   "cell_type": "markdown",
   "metadata": {},
   "source": [
    "### Below cell Equivalent to  predict_box "
   ]
  },
  {
   "cell_type": "code",
   "execution_count": 115,
   "metadata": {},
   "outputs": [],
   "source": [
    "# equi of __init__\n",
    "num_classes = 10 + 1\n",
    "bg_index = num_classes - 1\n",
    "\n",
    "\n",
    "\n",
    "\n",
    "loc_base = batch_base_loc\n",
    "cls_pred = tf.convert_to_tensor(cls_pred)\n",
    "loc_pred = tf.convert_to_tensor(loc_pred)\n",
    "\n",
    "input_width = WIDTH\n",
    "input_height = HEIGHT\n",
    "top_n = 10\n",
    "score_threshold = 0.2\n",
    "std = 0.2\n",
    "mean = 0\n",
    "\n",
    "\n",
    "anchor_w_h = tf.tile(loc_base[:, :, 2:], [1, 1, 2]) - tf.tile(loc_base[:, :, :2], [1, 1, 2])\n",
    "anchorbox = loc_base\n",
    "loc_pred_abs = tf.map_fn(lambda x: (x[0] * std + mean) * x[1] + x[2],\n",
    "                             elems=(loc_pred, anchor_w_h, anchorbox),\n",
    "                             dtype=tf.float32,\n",
    "                             back_prop=False)\n",
    "x1 = tf.clip_by_value(loc_pred_abs[:, :, 0], 0, input_width)\n",
    "y1 = tf.clip_by_value(loc_pred_abs[:, :, 1], 0, input_height)\n",
    "x2 = tf.clip_by_value(loc_pred_abs[:, :, 2], 0, input_width)\n",
    "y2 = tf.clip_by_value(loc_pred_abs[:, :, 3], 0, input_height)\n",
    "loc_pred_abs = tf.stack([x1, y1, x2, y2], axis=2)\n",
    "\n",
    "num_batch, num_anchor, _ = loc_pred_abs.shape\n",
    "cls_best_score = tf.reduce_max(cls_pred, axis=-1)\n",
    "cls_best_class = tf.argmax(cls_pred, axis=-1)\n",
    "\n",
    "cls_best_score = tf.where(tf.not_equal(cls_best_class, bg_index), cls_best_score, 0)\n",
    "\n",
    "# select top n anchor boxes to proceed\n",
    "# Padded Nonmax suppression with threshold\n",
    "selected_indices_padded = tf.map_fn(\n",
    "            lambda x: tf.image.non_max_suppression_padded(\n",
    "                x[0], x[1], top_n, pad_to_max_output_size=True, score_threshold=score_threshold).selected_indices,\n",
    "            (loc_pred_abs, cls_best_score),\n",
    "            dtype=tf.int32,\n",
    "            back_prop=False)\n",
    "\n",
    "valid_outputs = tf.map_fn(\n",
    "            lambda x: tf.image.non_max_suppression_padded(\n",
    "                x[0], x[1], top_n, pad_to_max_output_size=True, score_threshold=score_threshold).valid_outputs,\n",
    "            (loc_pred_abs, cls_best_score),\n",
    "            dtype=tf.int32,\n",
    "            back_prop=False)\n",
    "# return loc_pred_abs, selected_indices_padded, valid_outputs\n"
   ]
  },
  {
   "cell_type": "code",
   "execution_count": 124,
   "metadata": {},
   "outputs": [
    {
     "data": {
      "text/plain": [
       "(tensorflow.python.framework.ops.EagerTensor, TensorShape([2, 49104, 11]))"
      ]
     },
     "execution_count": 124,
     "metadata": {},
     "output_type": "execute_result"
    }
   ],
   "source": [
    "type(cls_pred), cls_pred.shape"
   ]
  },
  {
   "cell_type": "code",
   "execution_count": 127,
   "metadata": {},
   "outputs": [],
   "source": [
    "cls_pred = cls_pred.numpy()\n",
    "loc_pred_abs = loc_pred_abs.numpy()\n"
   ]
  },
  {
   "cell_type": "code",
   "execution_count": 128,
   "metadata": {},
   "outputs": [],
   "source": [
    "# cls_pred pertains to batch, whereas ele_cls_pred pertains to an element of a batch\n",
    "\n",
    "batch_idx = 0\n",
    "elem_selected_indices = selected_indices_padded[batch_idx]\n",
    "elem_valid_outputs = valid_outputs[batch_idx]\n",
    "elem_cls_pred = cls_pred[batch_idx]\n",
    "elem_loc_pred_abs = loc_pred_abs[batch_idx]\n",
    "\n",
    "indices = elem_selected_indices[:elem_valid_outputs] # indices into anchor boxes\n",
    "\n",
    "predicted_cls = elem_cls_pred[indices] \n",
    "predicted_cls = np.argmax(predicted_cls,-1)\n",
    "predicted_bbox = elem_loc_pred_abs[indices]\n"
   ]
  },
  {
   "cell_type": "code",
   "execution_count": 129,
   "metadata": {},
   "outputs": [
    {
     "data": {
      "text/plain": [
       "<matplotlib.image.AxesImage at 0x7f0bbae7c358>"
      ]
     },
     "execution_count": 129,
     "metadata": {},
     "output_type": "execute_result"
    },
    {
     "data": {
      "image/png": "[encoded data removed]",
      "text/plain": [
       "<Figure size 432x288 with 1 Axes>"
      ]
     },
     "metadata": {
      "needs_background": "light"
     },
     "output_type": "display_data"
    }
   ],
   "source": [
    "im = batch_images[batch_idx]\n",
    "fig, ax = plt.subplots()\n",
    "for bbox_index in range(len(predicted_bbox)):\n",
    "    x1,y1,x2,y2 = predicted_bbox[bbox_index]\n",
    "    cv2.rectangle(im, (x1, y1), (x2, y2), (255, 0, 0), 1)\n",
    "    \n",
    "ax.imshow(im)\n"
   ]
  },
  {
   "cell_type": "code",
   "execution_count": null,
   "metadata": {},
   "outputs": [],
   "source": []
  }
 ],
 "metadata": {
  "kernelspec": {
   "display_name": "fastesti2",
   "language": "python",
   "name": "fastesti2"
  },
  "language_info": {
   "codemirror_mode": {
    "name": "ipython",
    "version": 3
   },
   "file_extension": ".py",
   "mimetype": "text/x-python",
   "name": "python",
   "nbconvert_exporter": "python",
   "pygments_lexer": "ipython3",
   "version": "3.6.8"
  }
 },
 "nbformat": 4,
 "nbformat_minor": 2
}
