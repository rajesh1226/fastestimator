{
 "cells": [
  {
   "cell_type": "code",
   "execution_count": 1,
   "metadata": {},
   "outputs": [],
   "source": [
    "import json\n",
    "import os\n",
    "from ast import literal_eval\n",
    "from collections import defaultdict\n",
    "\n",
    "import cv2\n",
    "import matplotlib.pyplot as plt\n",
    "import numpy as np\n",
    "import pandas as pd\n",
    "import tensorflow as tf\n",
    "from tensorflow.python.keras import layers, models\n",
    "\n",
    "import fastestimator as fe\n",
    "from fastestimator.op import TensorOp\n",
    "from fastestimator.op.numpyop import Minmax\n",
    "from fastestimator.trace.io import ModelSaver\n",
    "from fastestimator.util.compute_overlap import compute_overlap"
   ]
  },
  {
   "cell_type": "code",
   "execution_count": 2,
   "metadata": {},
   "outputs": [],
   "source": [
    "WIDTH = 512\n",
    "HEIGHT = 512"
   ]
  },
  {
   "cell_type": "markdown",
   "metadata": {},
   "source": [
    "### Load SVHN data set\n",
    "\n",
    "#### Once this is done we will use COCO data set."
   ]
  },
  {
   "cell_type": "code",
   "execution_count": 3,
   "metadata": {},
   "outputs": [],
   "source": [
    "from fastestimator.dataset import svhn"
   ]
  },
  {
   "cell_type": "code",
   "execution_count": 4,
   "metadata": {},
   "outputs": [],
   "source": [
    "# train_csv, test_csv, path = svhn.load_data('/home/ubuntu/SVHN/')\n",
    "path = '/home/ubuntu/SVHN'\n",
    "train_csv = os.path.join(path,'train.csv')\n",
    "test_csv = os.path.join(path, 'test.csv')"
   ]
  },
  {
   "cell_type": "code",
   "execution_count": 5,
   "metadata": {},
   "outputs": [],
   "source": [
    "df = pd.read_csv(train_csv)"
   ]
  },
  {
   "cell_type": "code",
   "execution_count": 6,
   "metadata": {},
   "outputs": [
    {
     "data": {
      "text/html": [
       "<div>\n",
       "<style scoped>\n",
       "    .dataframe tbody tr th:only-of-type {\n",
       "        vertical-align: middle;\n",
       "    }\n",
       "\n",
       "    .dataframe tbody tr th {\n",
       "        vertical-align: top;\n",
       "    }\n",
       "\n",
       "    .dataframe thead th {\n",
       "        text-align: right;\n",
       "    }\n",
       "</style>\n",
       "<table border=\"1\" class=\"dataframe\">\n",
       "  <thead>\n",
       "    <tr style=\"text-align: right;\">\n",
       "      <th></th>\n",
       "      <th>image</th>\n",
       "      <th>label</th>\n",
       "      <th>x1</th>\n",
       "      <th>y1</th>\n",
       "      <th>x2</th>\n",
       "      <th>y2</th>\n",
       "    </tr>\n",
       "  </thead>\n",
       "  <tbody>\n",
       "    <tr>\n",
       "      <th>0</th>\n",
       "      <td>train/1.png</td>\n",
       "      <td>[1, 9]</td>\n",
       "      <td>[246, 323]</td>\n",
       "      <td>[77, 81]</td>\n",
       "      <td>[327, 419]</td>\n",
       "      <td>[296, 300]</td>\n",
       "    </tr>\n",
       "    <tr>\n",
       "      <th>1</th>\n",
       "      <td>train/2.png</td>\n",
       "      <td>[2, 3]</td>\n",
       "      <td>[77, 98]</td>\n",
       "      <td>[29, 25]</td>\n",
       "      <td>[100, 124]</td>\n",
       "      <td>[61, 57]</td>\n",
       "    </tr>\n",
       "    <tr>\n",
       "      <th>2</th>\n",
       "      <td>train/3.png</td>\n",
       "      <td>[2, 5]</td>\n",
       "      <td>[17, 25]</td>\n",
       "      <td>[5, 5]</td>\n",
       "      <td>[25, 34]</td>\n",
       "      <td>[20, 20]</td>\n",
       "    </tr>\n",
       "    <tr>\n",
       "      <th>3</th>\n",
       "      <td>train/4.png</td>\n",
       "      <td>[9, 3]</td>\n",
       "      <td>[57, 72]</td>\n",
       "      <td>[13, 13]</td>\n",
       "      <td>[72, 85]</td>\n",
       "      <td>[47, 47]</td>\n",
       "    </tr>\n",
       "    <tr>\n",
       "      <th>4</th>\n",
       "      <td>train/5.png</td>\n",
       "      <td>[3, 1]</td>\n",
       "      <td>[52, 74]</td>\n",
       "      <td>[7, 10]</td>\n",
       "      <td>[73, 89]</td>\n",
       "      <td>[53, 56]</td>\n",
       "    </tr>\n",
       "  </tbody>\n",
       "</table>\n",
       "</div>"
      ],
      "text/plain": [
       "         image   label          x1        y1          x2          y2\n",
       "0  train/1.png  [1, 9]  [246, 323]  [77, 81]  [327, 419]  [296, 300]\n",
       "1  train/2.png  [2, 3]    [77, 98]  [29, 25]  [100, 124]    [61, 57]\n",
       "2  train/3.png  [2, 5]    [17, 25]    [5, 5]    [25, 34]    [20, 20]\n",
       "3  train/4.png  [9, 3]    [57, 72]  [13, 13]    [72, 85]    [47, 47]\n",
       "4  train/5.png  [3, 1]    [52, 74]   [7, 10]    [73, 89]    [53, 56]"
      ]
     },
     "execution_count": 6,
     "metadata": {},
     "output_type": "execute_result"
    }
   ],
   "source": [
    "df.head()"
   ]
  },
  {
   "cell_type": "markdown",
   "metadata": {},
   "source": [
    "### Create a smaller data set\n",
    "\n",
    "#### TFRecords generation at high resolution (800x1280) is super slow. I am creating a smaller data set."
   ]
  },
  {
   "cell_type": "code",
   "execution_count": 7,
   "metadata": {},
   "outputs": [],
   "source": [
    "train = pd.read_csv(train_csv)\n",
    "test = pd.read_csv(test_csv)"
   ]
  },
  {
   "cell_type": "code",
   "execution_count": 8,
   "metadata": {},
   "outputs": [],
   "source": [
    "train_small = train[0:3000]\n",
    "test_small = test[0:50]"
   ]
  },
  {
   "cell_type": "markdown",
   "metadata": {},
   "source": [
    "### Plot image and bounding box\n",
    "#### Note: I found that 30.png, 18522.png are not correct."
   ]
  },
  {
   "cell_type": "code",
   "execution_count": 9,
   "metadata": {},
   "outputs": [],
   "source": [
    "index = 4000"
   ]
  },
  {
   "cell_type": "code",
   "execution_count": 10,
   "metadata": {},
   "outputs": [
    {
     "data": {
      "text/plain": [
       "image    train/4001.png\n",
       "label            [6, 1]\n",
       "x1             [23, 38]\n",
       "y1               [3, 4]\n",
       "x2             [37, 45]\n",
       "y2             [28, 29]\n",
       "Name: 4000, dtype: object"
      ]
     },
     "execution_count": 10,
     "metadata": {},
     "output_type": "execute_result"
    },
    {
     "data": {
      "image/png": "[encoded data removed]",
      "text/plain": [
       "<Figure size 432x288 with 1 Axes>"
      ]
     },
     "metadata": {
      "needs_background": "light"
     },
     "output_type": "display_data"
    }
   ],
   "source": [
    "im = cv2.imread(os.path.join(path, df['image'][index]))\n",
    "im = cv2.cvtColor(im, cv2.COLOR_BGR2RGB)\n",
    "fig, ax = plt.subplots()\n",
    "for box_index in range(len(literal_eval(df['label'][index]))):\n",
    "    x1 = literal_eval(df['x1'][index])[box_index]\n",
    "    y1 = literal_eval(df['y1'][index])[box_index]\n",
    "    x2 = literal_eval(df['x2'][index])[box_index]\n",
    "    y2 = literal_eval(df['y2'][index])[box_index]\n",
    "    cv2.rectangle(im, (x1, y1), (x2, y2), (255, 0, 0), 1)\n",
    "    \n",
    "ax.imshow(im)\n",
    "df.loc[index]"
   ]
  },
  {
   "cell_type": "markdown",
   "metadata": {},
   "source": [
    "### Create tfrecord writer"
   ]
  },
  {
   "cell_type": "code",
   "execution_count": 11,
   "metadata": {},
   "outputs": [],
   "source": [
    "from fastestimator.op import NumpyOp\n",
    "from fastestimator.op.numpyop import ImageReader, Minmax, Resize\n",
    "from fastestimator.util import RecordWriter"
   ]
  },
  {
   "cell_type": "code",
   "execution_count": 12,
   "metadata": {},
   "outputs": [],
   "source": [
    "class String2List(NumpyOp):\n",
    "    # this thing converts '[1, 2, 3]' into np.array([1, 2, 3])\n",
    "    def forward(self, data, state):\n",
    "        data = map(literal_eval, data)\n",
    "        return data"
   ]
  },
  {
   "cell_type": "code",
   "execution_count": 13,
   "metadata": {},
   "outputs": [],
   "source": [
    "class ResizeCocoStyle(Resize):\n",
    "    def __init__(self, target_size, keep_ratio=False, inputs=None, outputs=None, mode=None):\n",
    "        super().__init__(target_size, keep_ratio=keep_ratio, inputs=inputs, outputs=outputs, mode=mode)\n",
    "\n",
    "    def forward(self, data, state):\n",
    "        img, x1, y1, x2, y2 = data\n",
    "        if self.keep_ratio:\n",
    "            original_ratio = img.shape[1] / img.shape[0]\n",
    "            target_ratio = self.target_size[1] / self.target_size[0]\n",
    "            if original_ratio >= target_ratio:\n",
    "                pad = (img.shape[1] / target_ratio - img.shape[0]) / 2\n",
    "                pad_boarder = (np.ceil(pad).astype(np.int), np.floor(pad).astype(np.int), 0, 0)\n",
    "                y1 += np.ceil(pad).astype(np.int)\n",
    "                y2 += np.ceil(pad).astype(np.int)\n",
    "            else:\n",
    "                pad = (img.shape[0] * target_ratio - img.shape[1]) / 2\n",
    "                pad_boarder = (0, 0, np.ceil(pad).astype(np.int), np.floor(pad).astype(np.int))\n",
    "                x1 += np.ceil(pad).astype(np.int)\n",
    "                x2 += np.ceil(pad).astype(np.int)\n",
    "\n",
    "            img = cv2.copyMakeBorder(img, *pad_boarder, cv2.BORDER_CONSTANT)\n",
    "            \n",
    "        img_resize = cv2.resize(img, (self.target_size[1], self.target_size[0]), self.resize_method)\n",
    "        x1 = (np.array(x1) * self.target_size[1] / img.shape[1]).astype(np.int64)\n",
    "        x2 = (np.array(x2) * self.target_size[1] / img.shape[1]).astype(np.int64)\n",
    "        y1 = (np.array(y1) * self.target_size[0] / img.shape[0]).astype(np.int64)\n",
    "        y2 = (np.array(y2) * self.target_size[0] / img.shape[0]).astype(np.int64)\n",
    "        return img_resize, x1, y1, x2, y2"
   ]
  },
  {
   "cell_type": "code",
   "execution_count": 14,
   "metadata": {},
   "outputs": [],
   "source": [
    "class GenerateTarget(NumpyOp):\n",
    "    def __init__(self, inputs=None, outputs=None, mode=None, input_shape=(800, 800, 3)):\n",
    "        super().__init__(inputs=inputs, outputs=outputs, mode=mode)\n",
    "        self.pyramid_levels = [3, 4, 5, 6, 7]\n",
    "        self.sizes = [32, 64, 128, 256, 512]\n",
    "        self.strides = [8, 16, 32, 64, 128]\n",
    "        self.ratios = np.array([0.5, 1, 2], dtype=np.float)\n",
    "        self.scales = np.array([2**0, 2**(1.0 / 3.0), 2**(2.0 / 3.0)], dtype=np.float)\n",
    "\n",
    "        self.anchors_list = np.zeros((0, 4))\n",
    "        image_shapes = [(np.array(input_shape[:2]) + 2**pyra_level - 1) // (2**pyra_level)\n",
    "                        for pyra_level in self.pyramid_levels]\n",
    "        for idx, pyra_level in enumerate(self.pyramid_levels):\n",
    "            base_size = self.sizes[idx]\n",
    "            ratios = self.ratios\n",
    "            scales = self.scales\n",
    "            image_shape = image_shapes[idx]\n",
    "            strides = self.strides[idx]\n",
    "            anchors = self.generate_anchors_core(base_size, ratios, scales)\n",
    "            shifted_anchors = self.shift(image_shape, strides, anchors)\n",
    "            self.anchors_list = np.append(self.anchors_list, shifted_anchors, axis=0)\n",
    "\n",
    "    def forward(self, data, state):\n",
    "        label, x1, y1, x2, y2, image = data\n",
    "        target_cls, target_loc = self.get_target(self.anchors_list, label, x1, y1, x2, y2, num_classes=11) # 10 classes + bg\n",
    "        return target_cls, target_loc, self.anchors_list\n",
    "\n",
    "    def get_target(self, anchorbox, label, x1, y1, x2, y2, num_classes=10):\n",
    "        bg_index = num_classes - 1\n",
    "        query_box = np.zeros((0, 4))\n",
    "        query_label = np.zeros((0))\n",
    "        for _x1, _y1, _x2, _y2, _label in zip(x1, y1, x2, y2, label):\n",
    "            query_box = np.append(query_box, np.array([[_x1, _y1, _x2, _y2]]), axis=0)\n",
    "            query_label = np.append(query_label, _label)\n",
    "\n",
    "        overlap = compute_overlap(anchorbox.astype(np.float64), query_box.astype(np.float64))\n",
    "        argmax_overlaps_inds = np.argmax(overlap, axis=1)\n",
    "        max_overlaps = overlap[np.arange(overlap.shape[0]), argmax_overlaps_inds]\n",
    "        positive_index = (max_overlaps > 0.5)\n",
    "        ignore_index = (max_overlaps > 0.4) & ~positive_index\n",
    "        negative_index = (max_overlaps <= 0.4)\n",
    "\n",
    "        target_loc = get_loc_offset(query_box[argmax_overlaps_inds, :], anchorbox)\n",
    "        target_cls = query_label[argmax_overlaps_inds]\n",
    "        target_cls[negative_index] = bg_index\n",
    "        target_cls[ignore_index] = -2  # ignore this example\n",
    "\n",
    "        return target_cls, target_loc\n",
    "\n",
    "    def generate_anchors_core(self, base_size, ratios, scales):\n",
    "        num_anchors = len(ratios) * len(scales)\n",
    "        # initialize output anchors\n",
    "        anchors = np.zeros((num_anchors, 4))\n",
    "        # scale base_size\n",
    "        anchors[:, 2:] = base_size * np.tile(scales, (2, len(ratios))).T\n",
    "\n",
    "        # compute areas of anchors\n",
    "        areas = anchors[:, 2] * anchors[:, 3]\n",
    "\n",
    "        # correct for ratios\n",
    "        anchors[:, 2] = np.sqrt(areas / np.repeat(ratios, len(scales)))\n",
    "        anchors[:, 3] = anchors[:, 2] * np.repeat(ratios, len(scales))\n",
    "\n",
    "        # transform from (x_ctr, y_ctr, w, h) -> (x1, y1, x2, y2)\n",
    "        anchors[:, 0::2] -= np.tile(anchors[:, 2] * 0.5, (2, 1)).T\n",
    "        anchors[:, 1::2] -= np.tile(anchors[:, 3] * 0.5, (2, 1)).T\n",
    "\n",
    "        return anchors\n",
    "\n",
    "    def shift(self, image_shape, stride, anchors):\n",
    "        shift_x = (np.arange(0, image_shape[1]) + 0.5) * stride\n",
    "        shift_y = (np.arange(0, image_shape[0]) + 0.5) * stride\n",
    "        shift_x, shift_y = np.meshgrid(shift_x, shift_y)\n",
    "\n",
    "        shifts = np.vstack((shift_x.ravel(), shift_y.ravel(), shift_x.ravel(), shift_y.ravel())).transpose()\n",
    "\n",
    "        A = anchors.shape[0]\n",
    "        K = shifts.shape[0]\n",
    "        all_anchors = (anchors.reshape((1, A, 4)) + shifts.reshape((1, K, 4)).transpose((1, 0, 2)))\n",
    "        all_anchors = all_anchors.reshape((K * A, 4))\n",
    "\n",
    "        return all_anchors"
   ]
  },
  {
   "cell_type": "markdown",
   "metadata": {},
   "source": [
    "### Util functions"
   ]
  },
  {
   "cell_type": "code",
   "execution_count": 15,
   "metadata": {},
   "outputs": [],
   "source": [
    "def get_loc_offset(box_gt, box_anchor):\n",
    "    mean = 0\n",
    "    std = 0.2\n",
    "    anchor_width_height = np.tile(box_anchor[:, 2:] - box_anchor[:, :2], [1, 2])\n",
    "    delta = (box_gt - box_anchor) / anchor_width_height\n",
    "    return delta / std"
   ]
  },
  {
   "cell_type": "markdown",
   "metadata": {},
   "source": [
    "### Record writer"
   ]
  },
  {
   "cell_type": "code",
   "execution_count": 16,
   "metadata": {},
   "outputs": [],
   "source": [
    "writer = RecordWriter(\n",
    "    train_data=os.path.join(path, 'train_small.csv'),\n",
    "    validation_data=os.path.join(path, 'test_small.csv'),\n",
    "    save_dir=os.path.join(path, 'tfrecords'),\n",
    "    ops=[\n",
    "        ImageReader(inputs='image', outputs='image', parent_path=path),\n",
    "        String2List(inputs=[\"label\", \"x1\", \"y1\", \"x2\", \"y2\"], outputs=[\"label\", \"x1\", \"y1\", \"x2\", \"y2\"]),\n",
    "        ResizeCocoStyle((HEIGHT, WIDTH),\n",
    "                        keep_ratio=True,\n",
    "                        inputs=[\"image\", \"x1\", \"y1\", \"x2\", \"y2\"],\n",
    "                        outputs=[\"image\", \"x1\", \"y1\", \"x2\", \"y2\"]),\n",
    "        Minmax(inputs=\"image\", outputs=\"image\"),\n",
    "        GenerateTarget(inputs=[\"label\", \"x1\", \"y1\", \"x2\", \"y2\", \"image\"],\n",
    "                       outputs=[\"target_cls\", \"target_loc\", \"base_loc\"],\n",
    "                       input_shape=(HEIGHT, WIDTH, 3))\n",
    "    ])"
   ]
  },
  {
   "cell_type": "markdown",
   "metadata": {},
   "source": [
    "### Pipeline"
   ]
  },
  {
   "cell_type": "code",
   "execution_count": 17,
   "metadata": {},
   "outputs": [],
   "source": [
    "pipeline = fe.Pipeline(data=writer, batch_size=2, padded_batch=True, read_feature=[\"image\", \"target_cls\", \"target_loc\",\"base_loc\"])"
   ]
  },
  {
   "cell_type": "code",
   "execution_count": 18,
   "metadata": {},
   "outputs": [],
   "source": [
    "# !rm -rf /home/ubuntu/SVHN/"
   ]
  },
  {
   "cell_type": "code",
   "execution_count": 19,
   "metadata": {},
   "outputs": [
    {
     "name": "stdout",
     "output_type": "stream",
     "text": [
      "FastEstimator: Reading non-empty directory: /home/ubuntu/SVHN/tfrecords\n",
      "FastEstimator: Found 5000 examples for train in /home/ubuntu/SVHN/tfrecords/train_summary0.json\n",
      "FastEstimator: Found 3000 examples for eval in /home/ubuntu/SVHN/tfrecords/eval_summary0.json\n"
     ]
    }
   ],
   "source": [
    "batch_data = pipeline.show_results(mode='eval')"
   ]
  },
  {
   "cell_type": "code",
   "execution_count": 20,
   "metadata": {},
   "outputs": [
    {
     "data": {
      "text/plain": [
       "TensorShape([800, 1280, 3])"
      ]
     },
     "execution_count": 20,
     "metadata": {},
     "output_type": "execute_result"
    }
   ],
   "source": [
    "batch_data[0]['image'][1].shape"
   ]
  },
  {
   "cell_type": "code",
   "execution_count": 21,
   "metadata": {},
   "outputs": [
    {
     "data": {
      "text/plain": [
       "dict_keys(['image', 'target_cls', 'target_loc', 'base_loc'])"
      ]
     },
     "execution_count": 21,
     "metadata": {},
     "output_type": "execute_result"
    }
   ],
   "source": [
    "batch_data[0].keys()"
   ]
  },
  {
   "cell_type": "code",
   "execution_count": 22,
   "metadata": {},
   "outputs": [
    {
     "data": {
      "text/plain": [
       "<tf.Tensor: id=264, shape=(191970, 4), dtype=float32, numpy=\n",
       "array([[ -18.627417 ,   -7.3137083,   26.627417 ,   15.313708 ],\n",
       "       [ -24.508759 ,  -10.254379 ,   32.50876  ,   18.25438  ],\n",
       "       [ -31.918785 ,  -13.959393 ,   39.918785 ,   21.959393 ],\n",
       "       ...,\n",
       "       [1034.9807   ,  469.96133  , 1397.0193   , 1194.0387   ],\n",
       "       [ 987.92993  ,  375.85986  , 1444.0701   , 1288.1401   ],\n",
       "       [ 928.6497   ,  257.29944  , 1503.3503   , 1406.7006   ]],\n",
       "      dtype=float32)>"
      ]
     },
     "execution_count": 22,
     "metadata": {},
     "output_type": "execute_result"
    }
   ],
   "source": [
    "batch_data[0]['base_loc'][1]"
   ]
  },
  {
   "cell_type": "code",
   "execution_count": 23,
   "metadata": {},
   "outputs": [
    {
     "name": "stderr",
     "output_type": "stream",
     "text": [
      "Clipping input data to the valid range for imshow with RGB data ([0..1] for floats or [0..255] for integers).\n"
     ]
    },
    {
     "data": {
      "text/plain": [
       "<matplotlib.image.AxesImage at 0x7f10e51e1748>"
      ]
     },
     "execution_count": 23,
     "metadata": {},
     "output_type": "execute_result"
    },
    {
     "data": {
      "image/png": "[encoded data removed]",
      "text/plain": [
       "<Figure size 432x288 with 1 Axes>"
      ]
     },
     "metadata": {
      "needs_background": "light"
     },
     "output_type": "display_data"
    }
   ],
   "source": [
    "batch_index = 0\n",
    "im = batch_data[0]['image'].numpy()[batch_index]\n",
    "fig, ax = plt.subplots()\n",
    "# for box_index in range(len(batch_data[0]['x1'].numpy()[batch_index])):\n",
    "#     x1 = batch_data[0]['x1'].numpy()[batch_index][box_index]\n",
    "#     y1 = batch_data[0]['y1'].numpy()[batch_index][box_index]\n",
    "#     x2 = batch_data[0]['x2'].numpy()[batch_index][box_index]\n",
    "#     y2 = batch_data[0]['y2'].numpy()[batch_index][box_index]\n",
    "#     if x1 > 0:\n",
    "#         im = cv2.rectangle(im, (x1, y1), (x2, y2), (255, 0, 0), 2)\n",
    "\n",
    "ax.imshow(im)"
   ]
  },
  {
   "cell_type": "markdown",
   "metadata": {},
   "source": [
    "### Keras definitions\n",
    "\n",
    "#### Classification head"
   ]
  },
  {
   "cell_type": "code",
   "execution_count": 24,
   "metadata": {},
   "outputs": [],
   "source": [
    "def classification_sub_net(num_classes, num_anchor=9):\n",
    "    model = models.Sequential()\n",
    "    model.add(\n",
    "        layers.Conv2D(256,\n",
    "                      kernel_size=3,\n",
    "                      strides=1,\n",
    "                      padding='same',\n",
    "                      activation='relu',\n",
    "                      kernel_initializer=tf.random_normal_initializer(stddev=0.01),\n",
    "                      bias_initializer='zeros'))\n",
    "    model.add(\n",
    "        layers.Conv2D(256,\n",
    "                      kernel_size=3,\n",
    "                      strides=1,\n",
    "                      padding='same',\n",
    "                      activation='relu',\n",
    "                      kernel_initializer=tf.random_normal_initializer(stddev=0.01),\n",
    "                      bias_initializer='zeros'))\n",
    "    model.add(\n",
    "        layers.Conv2D(256,\n",
    "                      kernel_size=3,\n",
    "                      strides=1,\n",
    "                      padding='same',\n",
    "                      activation='relu',\n",
    "                      kernel_initializer=tf.random_normal_initializer(stddev=0.01),\n",
    "                      bias_initializer='zeros'))\n",
    "    model.add(\n",
    "        layers.Conv2D(256,\n",
    "                      kernel_size=3,\n",
    "                      strides=1,\n",
    "                      padding='same',\n",
    "                      activation='relu',\n",
    "                      kernel_initializer=tf.random_normal_initializer(stddev=0.01),\n",
    "                      bias_initializer='zeros'))\n",
    "    model.add(\n",
    "        layers.Conv2D(num_classes * num_anchor,\n",
    "                      kernel_size=3,\n",
    "                      strides=1,\n",
    "                      padding='same',\n",
    "                      activation='sigmoid',\n",
    "                      kernel_initializer=tf.random_normal_initializer(stddev=0.01),\n",
    "                      bias_initializer=tf.initializers.constant(np.log(1 / 99))))\n",
    "    model.add(layers.Reshape((-1, num_classes)))  # the output dimension is [batch, #anchor, #classes]\n",
    "    return model"
   ]
  },
  {
   "cell_type": "markdown",
   "metadata": {},
   "source": [
    "### Regression head"
   ]
  },
  {
   "cell_type": "code",
   "execution_count": 25,
   "metadata": {},
   "outputs": [],
   "source": [
    "def regression_sub_net(num_anchor=9):\n",
    "    model = models.Sequential()\n",
    "    model.add(\n",
    "        layers.Conv2D(256,\n",
    "                      kernel_size=3,\n",
    "                      strides=1,\n",
    "                      padding='same',\n",
    "                      activation='relu',\n",
    "                      kernel_initializer=tf.random_normal_initializer(stddev=0.01),\n",
    "                      bias_initializer='zeros'))\n",
    "    model.add(\n",
    "        layers.Conv2D(256,\n",
    "                      kernel_size=3,\n",
    "                      strides=1,\n",
    "                      padding='same',\n",
    "                      activation='relu',\n",
    "                      kernel_initializer=tf.random_normal_initializer(stddev=0.01),\n",
    "                      bias_initializer='zeros'))\n",
    "    model.add(\n",
    "        layers.Conv2D(256,\n",
    "                      kernel_size=3,\n",
    "                      strides=1,\n",
    "                      padding='same',\n",
    "                      activation='relu',\n",
    "                      kernel_initializer=tf.random_normal_initializer(stddev=0.01),\n",
    "                      bias_initializer='zeros'))\n",
    "    model.add(\n",
    "        layers.Conv2D(256,\n",
    "                      kernel_size=3,\n",
    "                      strides=1,\n",
    "                      padding='same',\n",
    "                      activation='relu',\n",
    "                      kernel_initializer=tf.random_normal_initializer(stddev=0.01),\n",
    "                      bias_initializer='zeros'))\n",
    "    model.add(\n",
    "        layers.Conv2D(4 * num_anchor,\n",
    "                      kernel_size=3,\n",
    "                      strides=1,\n",
    "                      padding='same',\n",
    "                      kernel_initializer=tf.random_normal_initializer(stddev=0.01),\n",
    "                      bias_initializer='zeros'))\n",
    "    model.add(layers.Reshape((-1, 4)))  # the output dimension is [batch, #anchor, 4]\n",
    "    return model\n"
   ]
  },
  {
   "cell_type": "markdown",
   "metadata": {},
   "source": [
    "## Define RetinaNet\n"
   ]
  },
  {
   "cell_type": "code",
   "execution_count": 26,
   "metadata": {},
   "outputs": [],
   "source": [
    "def RetinaNet(input_shape, num_classes, num_anchor=9):\n",
    "    inputs = tf.keras.Input(shape=input_shape)\n",
    "    # FPN\n",
    "    #     weights = '/home/ubuntu/ResNet-50-model.keras.h5'\n",
    "    resnet50 = tf.keras.applications.ResNet50(weights=\"imagenet\", include_top=False, input_tensor=inputs, pooling=None)\n",
    "    #     resnet50.load_weights(weights, by_name=True)\n",
    "    assert resnet50.layers[80].name == \"conv3_block4_out\"\n",
    "    C3 = resnet50.layers[80].output\n",
    "    assert resnet50.layers[142].name == \"conv4_block6_out\"\n",
    "    C4 = resnet50.layers[142].output\n",
    "    assert resnet50.layers[-1].name == \"conv5_block3_out\"\n",
    "    C5 = resnet50.layers[-1].output\n",
    "    \n",
    "    P5 = layers.Conv2D(256, kernel_size=1, strides=1, padding='same')(C5)\n",
    "    P5_upsampling = layers.UpSampling2D()(P5)\n",
    "    P4 = layers.Conv2D(256, kernel_size=1, strides=1, padding='same')(C4)\n",
    "    P4 = layers.Add()([P5_upsampling, P4])\n",
    "    P4_upsampling = layers.UpSampling2D()(P4)\n",
    "    P3 = layers.Conv2D(256, kernel_size=1, strides=1, padding='same')(C3)\n",
    "    \n",
    "    P3 = layers.Add()([P4_upsampling, P3])\n",
    "    \n",
    "    P6 = layers.Conv2D(256, kernel_size=3, strides=2, padding='same', name=\"P6\")(C5)\n",
    "    P7 = layers.Activation('relu')(P6)\n",
    "    P7 = layers.Conv2D(256, kernel_size=3, strides=2, padding='same', name=\"P7\")(P7)\n",
    "    P5 = layers.Conv2D(256, kernel_size=3, strides=1, padding='same', name=\"P5\")(P5)\n",
    "    P4 = layers.Conv2D(256, kernel_size=3, strides=1, padding='same', name=\"P4\")(P4)\n",
    "    P3 = layers.Conv2D(256, kernel_size=3, strides=1, padding='same', name=\"P3\")(P3)\n",
    "    # classification subnet\n",
    "    cls_subnet = classification_sub_net(num_classes=num_classes, num_anchor=num_anchor)\n",
    "    P3_cls = cls_subnet(P3)\n",
    "    P4_cls = cls_subnet(P4)\n",
    "    P5_cls = cls_subnet(P5)\n",
    "    P6_cls = cls_subnet(P6)\n",
    "    P7_cls = cls_subnet(P7)\n",
    "    cls_output = layers.Concatenate(axis=-2)([P3_cls, P4_cls, P5_cls, P6_cls, P7_cls])\n",
    "    # localization subnet\n",
    "    loc_subnet = regression_sub_net(num_anchor=num_anchor)\n",
    "    P3_loc = loc_subnet(P3)\n",
    "    P4_loc = loc_subnet(P4)\n",
    "    P5_loc = loc_subnet(P5)\n",
    "    P6_loc = loc_subnet(P6)\n",
    "    P7_loc = loc_subnet(P7)\n",
    "    loc_output = layers.Concatenate(axis=-2)([P3_loc, P4_loc, P5_loc, P6_loc, P7_loc])\n",
    "    return tf.keras.Model(inputs=inputs, outputs=[cls_output, loc_output])"
   ]
  },
  {
   "cell_type": "markdown",
   "metadata": {},
   "source": [
    "## Define loss"
   ]
  },
  {
   "cell_type": "code",
   "execution_count": 27,
   "metadata": {},
   "outputs": [],
   "source": [
    "from fastestimator.op.tensorop import Loss"
   ]
  },
  {
   "cell_type": "code",
   "execution_count": 28,
   "metadata": {},
   "outputs": [],
   "source": [
    "class RetinaLoss(Loss):\n",
    "    def focal_loss(self, cls_gt_example, cls_pred_example, num_classes, alpha=0.25, gamma=2.0):\n",
    "        bg_index = num_classes - 1\n",
    "        # cls_gt has shape [A], cls_pred is in [A, K]\n",
    "        # gather the objects and background, discard the rest\n",
    "        obj_idx = tf.where(tf.logical_and(tf.greater_equal(cls_gt_example, 0), tf.less(cls_gt_example, bg_index)))\n",
    "        obj_bg_idx = tf.where(tf.greater_equal(cls_gt_example, 0))\n",
    "        obj_bg_count = tf.cast(tf.shape(obj_bg_idx)[0], tf.float32)\n",
    "        obj_count = tf.cast(tf.maximum(tf.shape(obj_idx)[0], 1), tf.float32)\n",
    "        cls_gt_example = tf.one_hot(cls_gt_example, num_classes)\n",
    "        cls_gt_example = tf.gather_nd(cls_gt_example, obj_bg_idx)\n",
    "        cls_pred_example = tf.gather_nd(cls_pred_example, obj_bg_idx)\n",
    "        cls_gt_example = tf.reshape(cls_gt_example, (-1, 1))\n",
    "        cls_pred_example = tf.reshape(cls_pred_example, (-1, 1))\n",
    "        # compute the focal weight on each selected anchor box\n",
    "        alpha_factor = tf.ones_like(cls_gt_example) * alpha\n",
    "        alpha_factor = tf.where(tf.equal(cls_gt_example, 1), alpha_factor, 1 - alpha_factor)\n",
    "        focal_weight = tf.where(tf.equal(cls_gt_example, 1), 1 - cls_pred_example, cls_pred_example)\n",
    "        focal_weight = alpha_factor * focal_weight**gamma / obj_count\n",
    "        cls_loss = tf.losses.BinaryCrossentropy(reduction='sum')(cls_gt_example,\n",
    "                                                                 cls_pred_example,\n",
    "                                                                 sample_weight=focal_weight)\n",
    "        return cls_loss, obj_idx\n",
    "\n",
    "    def smooth_l1(self, loc_gt_example, loc_pred_example, obj_idx):\n",
    "        # loc_gt anf loc_pred has shape [A, 4]\n",
    "        sigma = 3\n",
    "        sigma_squared = sigma**3\n",
    "        obj_count = tf.cast(tf.maximum(tf.shape(obj_idx)[0], 1), tf.float32)\n",
    "        loc_gt = tf.gather_nd(loc_gt_example, obj_idx)\n",
    "        loc_pred = tf.gather_nd(loc_pred_example, obj_idx)\n",
    "        loc_gt = tf.reshape(loc_gt, (-1, 1))\n",
    "        loc_pred = tf.reshape(loc_pred, (-1, 1))\n",
    "        loc_diff = tf.abs(loc_gt - loc_pred)\n",
    "        smooth_l1_loss = tf.where(tf.less(loc_diff, 1 / sigma_squared),\n",
    "                                  0.5 * loc_diff**2 * sigma_squared,\n",
    "                                  loc_diff - 0.5 / sigma_squared)\n",
    "        smooth_l1_loss = tf.reduce_sum(smooth_l1_loss) / obj_count\n",
    "        return smooth_l1_loss\n",
    "\n",
    "    def forward(self, data, state):\n",
    "        cls_gt, loc_gt, cls_pred, loc_pred = data\n",
    "        cls_gt = tf.cast(cls_gt, tf.int32)\n",
    "        batch_size = state[\"local_batch_size\"]\n",
    "        total_loss = []\n",
    "        for idx in range(batch_size):\n",
    "            cls_gt_example = cls_gt[idx]\n",
    "            loc_gt_example = loc_gt[idx]\n",
    "            cls_pred_example = cls_pred[idx]\n",
    "            loc_pred_example = loc_pred[idx]\n",
    "            focal_loss, obj_idx = self.focal_loss(cls_gt_example, cls_pred_example, num_classes=10+1) # 10 classes + bg\n",
    "            smooth_l1_loss = self.smooth_l1(loc_gt_example, loc_pred_example, obj_idx)\n",
    "            total_loss.append(focal_loss + smooth_l1_loss)\n",
    "        total_loss = tf.convert_to_tensor(total_loss)\n",
    "        return total_loss"
   ]
  },
  {
   "cell_type": "markdown",
   "metadata": {},
   "source": [
    "## Not using PredictBox yet"
   ]
  },
  {
   "cell_type": "code",
   "execution_count": 29,
   "metadata": {},
   "outputs": [],
   "source": [
    "class PredictBox(TensorOp):\n",
    "    def __init__(self, num_classes, inputs=None, outputs=None, mode=None):\n",
    "        super().__init__(inputs=inputs, outputs=outputs, mode=mode)\n",
    "        self.num_classes = num_classes\n",
    "        self.bg_index = num_classes - 1\n",
    "\n",
    "    def forward(self, data, state):\n",
    "        cls_pred, loc_pred, loc_base = data\n",
    "        input_width = 1280\n",
    "        input_height = 800\n",
    "        top_n = 300\n",
    "        score_threshold = 0.05\n",
    "        std = 0.2\n",
    "        mean = 0\n",
    "        # convert the residual prediction to absolute prediction in (x1, y1, x2, y2)\n",
    "        anchor_w_h = tf.tile(loc_base[:, :, 2:], [1, 1, 2]) - tf.tile(loc_base[:, :, :2], [1, 1, 2])\n",
    "        anchorbox = loc_base\n",
    "        loc_pred_abs = tf.map_fn(lambda x: (x[0] * std + mean) * x[1] + x[2],\n",
    "                                 elems=(loc_pred, anchor_w_h, anchorbox),\n",
    "                                 dtype=tf.float32,\n",
    "                                 back_prop=False)\n",
    "        x1 = tf.clip_by_value(loc_pred_abs[:, :, 0], 0, input_width)\n",
    "        y1 = tf.clip_by_value(loc_pred_abs[:, :, 1], 0, input_height)\n",
    "        x2 = tf.clip_by_value(loc_pred_abs[:, :, 2], 0, input_width)\n",
    "        y2 = tf.clip_by_value(loc_pred_abs[:, :, 3], 0, input_height)\n",
    "        loc_pred_abs = tf.stack([x1, y1, x2, y2], axis=2)\n",
    "\n",
    "        num_batch, num_anchor, _ = loc_pred_abs.shape\n",
    "        cls_best_score = tf.reduce_max(cls_pred, axis=-1)\n",
    "        cls_best_class = tf.argmax(cls_pred, axis=-1)\n",
    "\n",
    "        cls_best_score = tf.where(tf.not_equal(cls_best_class, self.bg_index), cls_best_score, 0)\n",
    "\n",
    "        # select top n anchor boxes to proceed\n",
    "        # Padded Nonmax suppression with threshold\n",
    "        selected_indices_padded = tf.map_fn(\n",
    "            lambda x: tf.image.non_max_suppression_padded(\n",
    "                x[0], x[1], top_n, pad_to_max_output_size=True, score_threshold=score_threshold).selected_indices,\n",
    "            (loc_pred_abs, cls_best_score),\n",
    "            dtype=tf.int32,\n",
    "            back_prop=False)\n",
    "        valid_outputs = tf.map_fn(\n",
    "            lambda x: tf.image.non_max_suppression_padded(\n",
    "                x[0], x[1], top_n, pad_to_max_output_size=True, score_threshold=score_threshold).valid_outputs,\n",
    "            (loc_pred_abs, cls_best_score),\n",
    "            dtype=tf.int32,\n",
    "            back_prop=False)\n",
    "        return loc_pred_abs, selected_indices_padded, valid_outputs"
   ]
  },
  {
   "cell_type": "markdown",
   "metadata": {},
   "source": [
    "## Create network"
   ]
  },
  {
   "cell_type": "code",
   "execution_count": 30,
   "metadata": {},
   "outputs": [],
   "source": [
    "from fastestimator.op.tensorop.model import ModelOp"
   ]
  },
  {
   "cell_type": "code",
   "execution_count": 31,
   "metadata": {},
   "outputs": [],
   "source": [
    "# prepare model\n",
    "#10 + 1 comess from 10 classes plus bg class\n",
    "model = fe.build(model_def=lambda: RetinaNet(input_shape=(HEIGHT, WIDTH, 3), num_classes=10 + 1),\n",
    "                 model_name=\"retinanet\",\n",
    "                 optimizer=tf.optimizers.Adam(learning_rate=0.0001),\n",
    "                 loss_name=\"loss\")"
   ]
  },
  {
   "cell_type": "code",
   "execution_count": 32,
   "metadata": {},
   "outputs": [],
   "source": [
    "network = fe.Network(ops=[\n",
    "    ModelOp(inputs=\"image\", model=model, outputs=[\"pred_cls\", \"pred_loc\"]),\n",
    "    RetinaLoss(inputs=(\"target_cls\", \"target_loc\", \"pred_cls\", \"pred_loc\"), outputs=\"loss\"),\n",
    "])\n"
   ]
  },
  {
   "cell_type": "markdown",
   "metadata": {},
   "source": [
    "Create estimator"
   ]
  }
 ],
 "metadata": {
  "kernelspec": {
   "display_name": "fastesti2",
   "language": "python",
   "name": "fastesti2"
  },
  "language_info": {
   "codemirror_mode": {
    "name": "ipython",
    "version": 3
   },
   "file_extension": ".py",
   "mimetype": "text/x-python",
   "name": "python",
   "nbconvert_exporter": "python",
   "pygments_lexer": "ipython3",
   "version": "3.6.8"
  }
 },
 "nbformat": 4,
 "nbformat_minor": 2
}
